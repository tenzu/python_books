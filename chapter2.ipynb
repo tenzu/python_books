{
 "cells": [
  {
   "cell_type": "markdown",
   "metadata": {},
   "source": [
    "## 2.2 NumPy 模块的数组对象"
   ]
  },
  {
   "cell_type": "markdown",
   "metadata": {},
   "source": [
    "### 2.2.1 创建数组对象"
   ]
  },
  {
   "cell_type": "code",
   "execution_count": null,
   "metadata": {},
   "outputs": [],
   "source": [
    "import numpy as np\n",
    "\n",
    "arr1 = np.array([10, 20, 30, 40, 50])\n",
    "print(arr1)\n",
    "print(f\"arr1 shape: {arr1.shape}\")"
   ]
  },
  {
   "cell_type": "code",
   "execution_count": null,
   "metadata": {},
   "outputs": [],
   "source": [
    "arr2 = np.array([10, 20, 30, 40, 50], ndmin=2)\n",
    "print(arr2)\n",
    "print(f\"arr2 shape: {arr2.shape}\")"
   ]
  },
  {
   "cell_type": "code",
   "execution_count": null,
   "metadata": {},
   "outputs": [],
   "source": [
    "arr3 = np.array([10, 20, 30, 40, 50], dtype=complex)\n",
    "print(arr3)\n",
    "print(f\"arr3 shape: {arr3.shape}\")"
   ]
  },
  {
   "cell_type": "code",
   "execution_count": null,
   "metadata": {},
   "outputs": [],
   "source": [
    "lists1 = [[101, 202, 303], [404, 505, 606]]\n",
    "arr4 = np.array(lists1)\n",
    "print(f\"arr4 type: {type(arr4)}\")\n",
    "print(f\"arr4 shape: {arr4.shape}\")"
   ]
  },
  {
   "cell_type": "code",
   "execution_count": null,
   "metadata": {},
   "outputs": [],
   "source": [
    "arr5 = np.zeros((3, 4))\n",
    "print(arr5)"
   ]
  },
  {
   "cell_type": "code",
   "execution_count": null,
   "metadata": {},
   "outputs": [],
   "source": [
    "arr6 = np.ones((3, 4))\n",
    "print(arr6)"
   ]
  },
  {
   "cell_type": "code",
   "execution_count": null,
   "metadata": {},
   "outputs": [],
   "source": [
    "arr7 = np.eye(4)\n",
    "print(arr7)"
   ]
  },
  {
   "cell_type": "code",
   "execution_count": null,
   "metadata": {},
   "outputs": [],
   "source": [
    "arr8 = np.identity(4)\n",
    "print(arr8)"
   ]
  },
  {
   "cell_type": "code",
   "execution_count": null,
   "metadata": {},
   "outputs": [],
   "source": [
    "arr9 = np.empty((3, 4))\n",
    "print(arr9)"
   ]
  },
  {
   "cell_type": "markdown",
   "metadata": {},
   "source": [
    "### 2.2.2 数组对象类型的说明"
   ]
  },
  {
   "cell_type": "code",
   "execution_count": null,
   "metadata": {},
   "outputs": [],
   "source": [
    "import numpy as np\n",
    "\n",
    "arr1 = np.array([12.5, 136.7, 24.6, 35.5, 109.8])\n",
    "int_arr1 = arr1.astype(int)\n",
    "str_arr1 = arr1.astype(str)\n",
    "print(\n",
    "    f\"arr1 dtype: {arr1.dtype}\\nint_arr1 dtype: {int_arr1.dtype}\\nstr_arr1 dtype: {str_arr1.dtype}\"\n",
    ")"
   ]
  },
  {
   "cell_type": "markdown",
   "metadata": {},
   "source": [
    "### 2.2.3 随机生成数组"
   ]
  },
  {
   "cell_type": "code",
   "execution_count": null,
   "metadata": {},
   "outputs": [],
   "source": [
    "import numpy as np\n",
    "\n",
    "samples = np.random.normal(size=(4, 4))\n",
    "print(samples)"
   ]
  },
  {
   "cell_type": "code",
   "execution_count": null,
   "metadata": {},
   "outputs": [],
   "source": [
    "from random import normalvariate\n",
    "import time\n",
    "import numpy as np\n",
    "\n",
    "n = 10000000\n",
    "start = time.time()\n",
    "samples = [normalvariate(0, 1) for i in range(n)]\n",
    "times = np.random.normal(size=n)\n",
    "end = time.time()\n",
    "print(f\"from start to end: {end - start} seconds\")"
   ]
  },
  {
   "cell_type": "markdown",
   "metadata": {},
   "source": [
    "## NumPy 模块中数组的广播"
   ]
  },
  {
   "cell_type": "code",
   "execution_count": null,
   "metadata": {},
   "outputs": [],
   "source": [
    "import numpy as np\n",
    "\n",
    "arr1 = np.array([[10, 20, 30], [7, 8, 9]])\n",
    "multi_arr = arr1 * arr1\n",
    "sub_arr = arr1 - arr1\n",
    "print(f\"大小相等的数组实现乘法：\\n{multi_arr}\")\n",
    "print(f\"大小相等的数组实现减法：\\n{sub_arr}\")"
   ]
  },
  {
   "cell_type": "code",
   "execution_count": null,
   "metadata": {},
   "outputs": [],
   "source": [
    "divide_arr = 100 / arr1\n",
    "multi_arr = arr1 * 0.5\n",
    "print(f\"数组与标量值的除法运算：\\n{divide_arr}\")\n",
    "print(f\"数组与标量值的乘法运算：\\n{multi_arr}\")"
   ]
  },
  {
   "cell_type": "markdown",
   "metadata": {},
   "source": [
    "### 2.3.1 数组广播的原则\n",
    "列方向上取均值，即沿着 0 轴取均值，结果为 1 行 n 列。"
   ]
  },
  {
   "cell_type": "code",
   "execution_count": null,
   "metadata": {},
   "outputs": [],
   "source": [
    "import numpy as np\n",
    "\n",
    "weathers = np.array(\n",
    "    [\n",
    "        [20, 21, 22, 18, 19, 21, 22],\n",
    "        [18, 21, 23, 19, 18, 21, 13],\n",
    "        [18, 19, 22, 21, 21, 17, 16],\n",
    "        [15, 18, 20, 19, 21, 17, 18],\n",
    "    ]\n",
    ")\n",
    "print(f\"weather mean: \\n{weathers.mean(0)}\")\n",
    "meaned = weathers - weathers.mean(0)\n",
    "print(f\"meaned: \\n{meaned}\")\n",
    "print(f\"meaned.mean(0): \\n{meaned.mean(0)}\")"
   ]
  },
  {
   "cell_type": "markdown",
   "metadata": {},
   "source": [
    "行方向上取均值，即沿着 1 轴取均值，结果为 1 行 m 列，需要 reshape 成 m 行 1 列。"
   ]
  },
  {
   "cell_type": "code",
   "execution_count": null,
   "metadata": {},
   "outputs": [],
   "source": [
    "print(f\"mean(1) reshaped to (4,1): \\n{weathers.mean(1).reshape(4,1)}\")\n",
    "meaned = weathers - weathers.mean(1).reshape(4, 1)\n",
    "print(f\"meaned: \\n{meaned}\")\n",
    "print(f\"meaned.mean(1): \\n{meaned.mean(1)}\")"
   ]
  },
  {
   "cell_type": "markdown",
   "metadata": {},
   "source": [
    "### 数组广播的妙用"
   ]
  },
  {
   "cell_type": "code",
   "execution_count": null,
   "metadata": {},
   "outputs": [],
   "source": [
    "import numpy as np\n",
    "\n",
    "arr = np.ones((4, 6))\n",
    "print(f\"original arr:\\n{arr}\")\n",
    "arr = arr * 7\n",
    "print(f\"arr * 7:\\n{arr}\")\n",
    "arr1 = np.ones((4, 6))\n",
    "print(f\"original arr1:\\n{arr1}\")\n",
    "arr1[:] = 8\n",
    "print(f\"arr1 after broadcasting:\\n{arr1}\")\n",
    "arr1[1:3, 2:5] = 9\n",
    "print(f\"arr1 after slicing:\\n{arr1}\")"
   ]
  },
  {
   "cell_type": "markdown",
   "metadata": {},
   "source": [
    "## 2.4NumPy 模块中数组的操作\n",
    "### 2.4.1 基本的索引"
   ]
  },
  {
   "cell_type": "code",
   "execution_count": 27,
   "metadata": {},
   "outputs": [
    {
     "name": "stdout",
     "output_type": "stream",
     "text": [
      "original arr: \n",
      "[3.1        3.14       3.141      3.1415     3.14159    3.141592\n",
      " 3.1415926  3.14159265]\n",
      "arr[4]: 3.14159\n",
      "--------------------\n",
      "arr[3:6]: [3.1415   3.14159  3.141592]\n",
      "--------------------\n",
      "arr: \n",
      "[3.1        3.14       3.141      3.1415     3.14159    3.141592\n",
      " 3.1415926  3.14159265]\n",
      "____________________\n",
      "ofiginal arr1: \n",
      "[[3.1        3.14       3.141      3.1415    ]\n",
      " [3.14159    3.141592   3.1415926  3.14159265]]\n",
      "arr1[0][2]: 3.141\n",
      "arr1[0,2]: 3.141\n"
     ]
    }
   ],
   "source": [
    "import numpy as np\n",
    "\n",
    "arr = np.array([3.1, 3.14, 3.141, 3.1415, 3.14159, 3.141592, 3.1415926, 3.14159265])\n",
    "print(f\"original arr: \\n{arr}\")\n",
    "print(f\"arr[4]: {arr[4]}\")\n",
    "print(f\"-\" * 20)\n",
    "print(f\"arr[3:6]: {arr[3:6]}\")\n",
    "print(f\"-\" * 20)\n",
    "print(f\"arr: \\n{arr}\")\n",
    "print(f\"_\" * 20)\n",
    "arr1 = arr.reshape(2, -1)\n",
    "print(f\"ofiginal arr1: \\n{arr1}\")\n",
    "print(f\"arr1[0][2]: {arr1[0][2]}\")\n",
    "print(f\"arr1[0,2]: {arr1[0,2]}\")"
   ]
  }
 ],
 "metadata": {
  "kernelspec": {
   "display_name": "base",
   "language": "python",
   "name": "python3"
  },
  "language_info": {
   "codemirror_mode": {
    "name": "ipython",
    "version": 3
   },
   "file_extension": ".py",
   "mimetype": "text/x-python",
   "name": "python",
   "nbconvert_exporter": "python",
   "pygments_lexer": "ipython3",
   "version": "3.12.2"
  }
 },
 "nbformat": 4,
 "nbformat_minor": 2
}
