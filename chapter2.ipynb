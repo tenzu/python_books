{
 "cells": [
  {
   "cell_type": "markdown",
   "metadata": {},
   "source": [
    "## 2.2 NumPy 模块的数组对象"
   ]
  },
  {
   "cell_type": "markdown",
   "metadata": {},
   "source": [
    "### 2.2.1 创建数组对象"
   ]
  },
  {
   "cell_type": "code",
   "execution_count": null,
   "metadata": {},
   "outputs": [],
   "source": [
    "import numpy as np\n",
    "\n",
    "arr1 = np.array([10, 20, 30, 40, 50])\n",
    "print(arr1)\n",
    "print(f\"arr1 shape: {arr1.shape}\")"
   ]
  },
  {
   "cell_type": "code",
   "execution_count": null,
   "metadata": {},
   "outputs": [],
   "source": [
    "arr2 = np.array([10, 20, 30, 40, 50], ndmin=2)\n",
    "print(arr2)\n",
    "print(f\"arr2 shape: {arr2.shape}\")"
   ]
  },
  {
   "cell_type": "code",
   "execution_count": null,
   "metadata": {},
   "outputs": [],
   "source": [
    "arr3 = np.array([10, 20, 30, 40, 50], dtype=complex)\n",
    "print(arr3)\n",
    "print(f\"arr3 shape: {arr3.shape}\")"
   ]
  },
  {
   "cell_type": "code",
   "execution_count": null,
   "metadata": {},
   "outputs": [],
   "source": [
    "lists1 = [[101, 202, 303], [404, 505, 606]]\n",
    "arr4 = np.array(lists1)\n",
    "print(f\"arr4 type: {type(arr4)}\")\n",
    "print(f\"arr4 shape: {arr4.shape}\")"
   ]
  },
  {
   "cell_type": "code",
   "execution_count": null,
   "metadata": {},
   "outputs": [],
   "source": [
    "arr5 = np.zeros((3, 4))\n",
    "print(arr5)"
   ]
  },
  {
   "cell_type": "code",
   "execution_count": null,
   "metadata": {},
   "outputs": [],
   "source": [
    "arr6 = np.ones((3, 4))\n",
    "print(arr6)"
   ]
  },
  {
   "cell_type": "code",
   "execution_count": null,
   "metadata": {},
   "outputs": [],
   "source": [
    "arr7 = np.eye(4)\n",
    "print(arr7)"
   ]
  },
  {
   "cell_type": "code",
   "execution_count": null,
   "metadata": {},
   "outputs": [],
   "source": [
    "arr8 = np.identity(4)\n",
    "print(arr8)"
   ]
  },
  {
   "cell_type": "code",
   "execution_count": null,
   "metadata": {},
   "outputs": [],
   "source": [
    "arr9 = np.empty((3, 4))\n",
    "print(arr9)"
   ]
  },
  {
   "cell_type": "markdown",
   "metadata": {},
   "source": [
    "### 2.2.2 数组对象类型的说明"
   ]
  },
  {
   "cell_type": "code",
   "execution_count": null,
   "metadata": {},
   "outputs": [],
   "source": [
    "import numpy as np\n",
    "\n",
    "arr1 = np.array([12.5, 136.7, 24.6, 35.5, 109.8])\n",
    "int_arr1 = arr1.astype(int)\n",
    "str_arr1 = arr1.astype(str)\n",
    "print(\n",
    "    f\"arr1 dtype: {arr1.dtype}\\nint_arr1 dtype: {int_arr1.dtype}\\nstr_arr1 dtype: {str_arr1.dtype}\"\n",
    ")"
   ]
  },
  {
   "cell_type": "markdown",
   "metadata": {},
   "source": [
    "### 2.2.3 随机生成数组"
   ]
  },
  {
   "cell_type": "code",
   "execution_count": null,
   "metadata": {},
   "outputs": [],
   "source": [
    "import numpy as np\n",
    "\n",
    "samples = np.random.normal(size=(4, 4))\n",
    "print(samples)"
   ]
  },
  {
   "cell_type": "code",
   "execution_count": null,
   "metadata": {},
   "outputs": [],
   "source": [
    "from random import normalvariate\n",
    "import time\n",
    "import numpy as np\n",
    "\n",
    "n = 10000000\n",
    "start = time.time()\n",
    "samples = [normalvariate(0, 1) for i in range(n)]\n",
    "times = np.random.normal(size=n)\n",
    "end = time.time()\n",
    "print(f\"from start to end: {end - start} seconds\")"
   ]
  },
  {
   "cell_type": "markdown",
   "metadata": {},
   "source": [
    "## NumPy 模块中数组的广播"
   ]
  },
  {
   "cell_type": "code",
   "execution_count": null,
   "metadata": {},
   "outputs": [],
   "source": [
    "import numpy as np\n",
    "\n",
    "arr1 = np.array([[10, 20, 30], [7, 8, 9]])\n",
    "multi_arr = arr1 * arr1\n",
    "sub_arr = arr1 - arr1\n",
    "print(f\"大小相等的数组实现乘法：\\n{multi_arr}\")\n",
    "print(f\"大小相等的数组实现减法：\\n{sub_arr}\")"
   ]
  },
  {
   "cell_type": "code",
   "execution_count": null,
   "metadata": {},
   "outputs": [],
   "source": [
    "divide_arr = 100 / arr1\n",
    "multi_arr = arr1 * 0.5\n",
    "print(f\"数组与标量值的除法运算：\\n{divide_arr}\")\n",
    "print(f\"数组与标量值的乘法运算：\\n{multi_arr}\")"
   ]
  },
  {
   "cell_type": "markdown",
   "metadata": {},
   "source": [
    "### 2.3.1 数组广播的原则\n",
    "列方向上取均值，即沿着 0 轴取均值，结果为 1 行 n 列。"
   ]
  },
  {
   "cell_type": "code",
   "execution_count": null,
   "metadata": {},
   "outputs": [],
   "source": [
    "import numpy as np\n",
    "\n",
    "weathers = np.array(\n",
    "    [\n",
    "        [20, 21, 22, 18, 19, 21, 22],\n",
    "        [18, 21, 23, 19, 18, 21, 13],\n",
    "        [18, 19, 22, 21, 21, 17, 16],\n",
    "        [15, 18, 20, 19, 21, 17, 18],\n",
    "    ]\n",
    ")\n",
    "print(f\"weather mean: \\n{weathers.mean(0)}\")\n",
    "meaned = weathers - weathers.mean(0)\n",
    "print(f\"meaned: \\n{meaned}\")\n",
    "print(f\"meaned.mean(0): \\n{meaned.mean(0)}\")"
   ]
  },
  {
   "cell_type": "markdown",
   "metadata": {},
   "source": [
    "行方向上取均值，即沿着 1 轴取均值，结果为 1 行 m 列，需要 reshape 成 m 行 1 列。"
   ]
  },
  {
   "cell_type": "code",
   "execution_count": null,
   "metadata": {},
   "outputs": [],
   "source": [
    "print(f\"mean(1) reshaped to (4,1): \\n{weathers.mean(1).reshape(4,1)}\")\n",
    "meaned = weathers - weathers.mean(1).reshape(4, 1)\n",
    "print(f\"meaned: \\n{meaned}\")\n",
    "print(f\"meaned.mean(1): \\n{meaned.mean(1)}\")"
   ]
  },
  {
   "cell_type": "markdown",
   "metadata": {},
   "source": [
    "### 数组广播的妙用"
   ]
  },
  {
   "cell_type": "code",
   "execution_count": null,
   "metadata": {},
   "outputs": [],
   "source": [
    "import numpy as np\n",
    "\n",
    "arr = np.ones((4, 6))\n",
    "print(f\"original arr:\\n{arr}\")\n",
    "arr = arr * 7\n",
    "print(f\"arr * 7:\\n{arr}\")\n",
    "arr1 = np.ones((4, 6))\n",
    "print(f\"original arr1:\\n{arr1}\")\n",
    "arr1[:] = 8\n",
    "print(f\"arr1 after broadcasting:\\n{arr1}\")\n",
    "arr1[1:3, 2:5] = 9\n",
    "print(f\"arr1 after slicing:\\n{arr1}\")"
   ]
  },
  {
   "cell_type": "markdown",
   "metadata": {},
   "source": [
    "## 2.4NumPy 模块中数组的操作\n",
    "### 2.4.1 基本的索引"
   ]
  },
  {
   "cell_type": "code",
   "execution_count": null,
   "metadata": {},
   "outputs": [],
   "source": [
    "import numpy as np\n",
    "\n",
    "arr = np.array([3.1, 3.14, 3.141, 3.1415, 3.14159, 3.141592, 3.1415926, 3.14159265])\n",
    "print(f\"original arr: \\n{arr}\")\n",
    "print(f\"arr[4]: {arr[4]}\")\n",
    "print(f\"-\" * 20)\n",
    "print(f\"arr[3:6]: {arr[3:6]}\")\n",
    "print(f\"-\" * 20)\n",
    "print(f\"arr: \\n{arr}\")\n",
    "print(f\"-\" * 20)\n",
    "arr1 = arr.reshape(2, -1)\n",
    "print(f\"ofiginal arr1: \\n{arr1}\")\n",
    "print(f\"arr1[0][2]: {arr1[0][2]}\")\n",
    "print(f\"arr1[0,2]: {arr1[0,2]}\")"
   ]
  },
  {
   "cell_type": "markdown",
   "metadata": {},
   "source": [
    "### 2.4.2 切片的索引"
   ]
  },
  {
   "cell_type": "code",
   "execution_count": null,
   "metadata": {},
   "outputs": [],
   "source": [
    "import numpy as np\n",
    "\n",
    "arr = np.array(\n",
    "    [[[3.1, 3.14], [3.141, 3.1415]], [[3.14159, 3.141592], [3.1415926, 3.14159265]]]\n",
    ")\n",
    "print(f\"arr: \\n{arr}\")\n",
    "print(f\"arr.shape: {arr.shape}\")\n",
    "print(f\"arr[:1,:1]: {arr[:1,:1]}\")\n",
    "print(f\"-\" * 20)\n",
    "arr[:2, :1] = 3.14159265358\n",
    "print(f\"sliced arr after broadcasting: \\n{arr}\")"
   ]
  },
  {
   "cell_type": "markdown",
   "metadata": {},
   "source": [
    "### 2.4.3 布尔型索引"
   ]
  },
  {
   "cell_type": "code",
   "execution_count": null,
   "metadata": {},
   "outputs": [],
   "source": [
    "import numpy as np\n",
    "\n",
    "names = np.array([\"业务员\", \"业务员\", \"经理\", \"主管\", \"业务员\", \"主管\"])\n",
    "salary = np.array([2520.00, 3600.00, 2745.00, 4200.00, 3805.00, 3947.00])\n",
    "print(f\"业务员薪水：{salary[names=='业务员']}\")\n",
    "print(f\"-\" * 20)\n",
    "print(f\"其他人薪水：{salary[names!='业务员']}\")\n",
    "print(f\"-\" * 20)\n",
    "print(f\"经理或主管薪水：{salary[(names=='经理') | (names=='主管')]}\")\n",
    "print(f\"-\" * 20)\n",
    "print(f\"大于3500的业务员薪水：{salary[(names=='业务员') & (salary>3500)]}\")"
   ]
  },
  {
   "cell_type": "markdown",
   "metadata": {},
   "source": [
    "### 2.4.4 数组的转置和轴变换"
   ]
  },
  {
   "cell_type": "code",
   "execution_count": null,
   "metadata": {},
   "outputs": [],
   "source": [
    "import numpy as np\n",
    "\n",
    "arr = np.array(\n",
    "    [\n",
    "        [1, 1, 1, 1, 1],\n",
    "        [2, 2, 2, 2, 2],\n",
    "        [3, 3, 3, 3, 3],\n",
    "        [4, 4, 4, 4, 4],\n",
    "        [5, 5, 5, 5, 5],\n",
    "    ]\n",
    ")\n",
    "print(f\"original arr:\\n{arr}\")\n",
    "arr_trans = arr.transpose()\n",
    "print(f\"transposed arr:\\n{arr_trans}\")\n",
    "arr_trans1 = arr.T\n",
    "print(f\"transposed arr using T:\\n{arr_trans1}\")"
   ]
  },
  {
   "cell_type": "code",
   "execution_count": null,
   "metadata": {},
   "outputs": [],
   "source": [
    "arr = np.random.randn(4,)\n",
    "print(f\"original array:\\n{arr}\")\n",
    "print(f\"arr.shape:\\n{arr.shape}\")\n",
    "print(f\"arr.T\\n{arr.T}\")\n",
    "print(f\"arr.T.shape:\\n{arr.T.shape}\")\n",
    "result = np.dot(arr.T,arr)\n",
    "print(f\"arr.T * arr:\\n{result}\")"
   ]
  }
 ],
 "metadata": {
  "kernelspec": {
   "display_name": "base",
   "language": "python",
   "name": "python3"
  },
  "language_info": {
   "codemirror_mode": {
    "name": "ipython",
    "version": 3
   },
   "file_extension": ".py",
   "mimetype": "text/x-python",
   "name": "python",
   "nbconvert_exporter": "python",
   "pygments_lexer": "ipython3",
   "version": "3.12.2"
  }
 },
 "nbformat": 4,
 "nbformat_minor": 2
}
