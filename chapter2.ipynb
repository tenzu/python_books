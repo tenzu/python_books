{
 "cells": [
  {
   "cell_type": "markdown",
   "metadata": {},
   "source": [
    "## 2.2 NumPy 模块的数组对象"
   ]
  },
  {
   "cell_type": "markdown",
   "metadata": {},
   "source": [
    "### 2.2.1 创建数组对象"
   ]
  },
  {
   "cell_type": "code",
   "execution_count": 1,
   "metadata": {},
   "outputs": [
    {
     "name": "stdout",
     "output_type": "stream",
     "text": [
      "[10 20 30 40 50]\n",
      "arr1 shape: (5,)\n"
     ]
    }
   ],
   "source": [
    "import numpy as np\n",
    "\n",
    "arr1 = np.array([10, 20, 30, 40, 50])\n",
    "print(arr1)\n",
    "print(f\"arr1 shape: {arr1.shape}\")"
   ]
  },
  {
   "cell_type": "code",
   "execution_count": 2,
   "metadata": {},
   "outputs": [
    {
     "name": "stdout",
     "output_type": "stream",
     "text": [
      "[[10 20 30 40 50]]\n",
      "arr2 shape: (1, 5)\n"
     ]
    }
   ],
   "source": [
    "arr2 = np.array([10, 20, 30, 40, 50], ndmin=2)\n",
    "print(arr2)\n",
    "print(f\"arr2 shape: {arr2.shape}\")"
   ]
  },
  {
   "cell_type": "code",
   "execution_count": 3,
   "metadata": {},
   "outputs": [
    {
     "name": "stdout",
     "output_type": "stream",
     "text": [
      "[10.+0.j 20.+0.j 30.+0.j 40.+0.j 50.+0.j]\n",
      "arr3 shape: (5,)\n"
     ]
    }
   ],
   "source": [
    "arr3 = np.array([10, 20, 30, 40, 50], dtype=complex)\n",
    "print(arr3)\n",
    "print(f\"arr3 shape: {arr3.shape}\")"
   ]
  },
  {
   "cell_type": "code",
   "execution_count": 4,
   "metadata": {},
   "outputs": [
    {
     "name": "stdout",
     "output_type": "stream",
     "text": [
      "arr4 type: <class 'numpy.ndarray'>\n",
      "arr4 shape: (2, 3)\n"
     ]
    }
   ],
   "source": [
    "lists1 = [[101, 202, 303], [404, 505, 606]]\n",
    "arr4 = np.array(lists1)\n",
    "print(f\"arr4 type: {type(arr4)}\")\n",
    "print(f\"arr4 shape: {arr4.shape}\")"
   ]
  },
  {
   "cell_type": "code",
   "execution_count": 5,
   "metadata": {},
   "outputs": [
    {
     "name": "stdout",
     "output_type": "stream",
     "text": [
      "[[0. 0. 0. 0.]\n",
      " [0. 0. 0. 0.]\n",
      " [0. 0. 0. 0.]]\n"
     ]
    }
   ],
   "source": [
    "arr5 = np.zeros((3, 4))\n",
    "print(arr5)"
   ]
  },
  {
   "cell_type": "code",
   "execution_count": 6,
   "metadata": {},
   "outputs": [
    {
     "name": "stdout",
     "output_type": "stream",
     "text": [
      "[[1. 1. 1. 1.]\n",
      " [1. 1. 1. 1.]\n",
      " [1. 1. 1. 1.]]\n"
     ]
    }
   ],
   "source": [
    "arr6 = np.ones((3, 4))\n",
    "print(arr6)"
   ]
  },
  {
   "cell_type": "code",
   "execution_count": 7,
   "metadata": {},
   "outputs": [
    {
     "name": "stdout",
     "output_type": "stream",
     "text": [
      "[[1. 0. 0. 0.]\n",
      " [0. 1. 0. 0.]\n",
      " [0. 0. 1. 0.]\n",
      " [0. 0. 0. 1.]]\n"
     ]
    }
   ],
   "source": [
    "arr7 = np.eye(4)\n",
    "print(arr7)"
   ]
  },
  {
   "cell_type": "code",
   "execution_count": 8,
   "metadata": {},
   "outputs": [
    {
     "name": "stdout",
     "output_type": "stream",
     "text": [
      "[[1. 0. 0. 0.]\n",
      " [0. 1. 0. 0.]\n",
      " [0. 0. 1. 0.]\n",
      " [0. 0. 0. 1.]]\n"
     ]
    }
   ],
   "source": [
    "arr8 = np.identity(4)\n",
    "print(arr8)"
   ]
  },
  {
   "cell_type": "code",
   "execution_count": 9,
   "metadata": {},
   "outputs": [
    {
     "name": "stdout",
     "output_type": "stream",
     "text": [
      "[[1. 1. 1. 1.]\n",
      " [1. 1. 1. 1.]\n",
      " [1. 1. 1. 1.]]\n"
     ]
    }
   ],
   "source": [
    "arr9 = np.empty((3, 4))\n",
    "print(arr9)"
   ]
  },
  {
   "cell_type": "markdown",
   "metadata": {},
   "source": [
    "### 2.2.2 数组对象类型的说明"
   ]
  },
  {
   "cell_type": "code",
   "execution_count": 12,
   "metadata": {},
   "outputs": [
    {
     "name": "stdout",
     "output_type": "stream",
     "text": [
      "arr1 dtype: float64\n",
      "int_arr1 dtype: int64\n",
      "str_arr1 dtype: <U32\n"
     ]
    }
   ],
   "source": [
    "import numpy as np\n",
    "\n",
    "arr1 = np.array([12.5, 136.7, 24.6, 35.5, 109.8])\n",
    "int_arr1 = arr1.astype(int)\n",
    "str_arr1 = arr1.astype(str)\n",
    "print(\n",
    "    f\"arr1 dtype: {arr1.dtype}\\nint_arr1 dtype: {int_arr1.dtype}\\nstr_arr1 dtype: {str_arr1.dtype}\"\n",
    ")"
   ]
  },
  {
   "cell_type": "markdown",
   "metadata": {},
   "source": [
    "### 2.2.3 随机生成数组"
   ]
  },
  {
   "cell_type": "code",
   "execution_count": 1,
   "metadata": {},
   "outputs": [
    {
     "name": "stdout",
     "output_type": "stream",
     "text": [
      "[[-0.01359357 -0.40962299 -1.60367816 -1.04570208]\n",
      " [-1.78092467 -0.91605115  2.4291065  -1.07420118]\n",
      " [ 0.17828766  2.25509371 -1.0280496  -0.27048406]\n",
      " [-0.4080115   1.84439326 -0.86979869 -1.86786928]]\n"
     ]
    }
   ],
   "source": [
    "import numpy as np\n",
    "\n",
    "samples = np.random.normal(size=(4, 4))\n",
    "print(samples)"
   ]
  },
  {
   "cell_type": "code",
   "execution_count": 1,
   "metadata": {},
   "outputs": [
    {
     "name": "stdout",
     "output_type": "stream",
     "text": [
      "from start to end: 3.583648920059204 seconds\n"
     ]
    }
   ],
   "source": [
    "from random import normalvariate\n",
    "import time\n",
    "import numpy as np\n",
    "\n",
    "n = 10000000\n",
    "start = time.time()\n",
    "samples = [normalvariate(0, 1) for i in range(n)]\n",
    "times = np.random.normal(size=n)\n",
    "end = time.time()\n",
    "print(f\"from start to end: {end - start} seconds\")"
   ]
  },
  {
   "cell_type": "markdown",
   "metadata": {},
   "source": [
    "## NumPy 模块中数组的广播"
   ]
  },
  {
   "cell_type": "code",
   "execution_count": 2,
   "metadata": {},
   "outputs": [
    {
     "name": "stdout",
     "output_type": "stream",
     "text": [
      "大小相等的数组实现乘法：\n",
      "[[100 400 900]\n",
      " [ 49  64  81]]\n",
      "大小相等的数组实现减法：\n",
      "[[0 0 0]\n",
      " [0 0 0]]\n"
     ]
    }
   ],
   "source": [
    "import numpy as np\n",
    "\n",
    "arr1 = np.array([[10, 20, 30], [7, 8, 9]])\n",
    "multi_arr = arr1 * arr1\n",
    "sub_arr = arr1 - arr1\n",
    "print(f\"大小相等的数组实现乘法：\\n{multi_arr}\")\n",
    "print(f\"大小相等的数组实现减法：\\n{sub_arr}\")"
   ]
  },
  {
   "cell_type": "code",
   "execution_count": 4,
   "metadata": {},
   "outputs": [
    {
     "name": "stdout",
     "output_type": "stream",
     "text": [
      "数组与标量值的除法运算：\n",
      "[[10.          5.          3.33333333]\n",
      " [14.28571429 12.5        11.11111111]]\n",
      "数组与标量值的乘法运算：\n",
      "[[ 5.  10.  15. ]\n",
      " [ 3.5  4.   4.5]]\n"
     ]
    }
   ],
   "source": [
    "divide_arr = 100 / arr1\n",
    "multi_arr = arr1 * 0.5\n",
    "print(f\"数组与标量值的除法运算：\\n{divide_arr}\")\n",
    "print(f\"数组与标量值的乘法运算：\\n{multi_arr}\")"
   ]
  },
  {
   "cell_type": "markdown",
   "metadata": {},
   "source": [
    "### 2.3.1 数组广播的原则\n",
    "列方向上取均值，即沿着 0 轴取均值，结果为 1 行 n 列。"
   ]
  },
  {
   "cell_type": "code",
   "execution_count": 6,
   "metadata": {},
   "outputs": [
    {
     "name": "stdout",
     "output_type": "stream",
     "text": [
      "weather mean: \n",
      "[17.75 19.75 21.75 19.25 19.75 19.   17.25]\n",
      "meaned: \n",
      "[[ 2.25  1.25  0.25 -1.25 -0.75  2.    4.75]\n",
      " [ 0.25  1.25  1.25 -0.25 -1.75  2.   -4.25]\n",
      " [ 0.25 -0.75  0.25  1.75  1.25 -2.   -1.25]\n",
      " [-2.75 -1.75 -1.75 -0.25  1.25 -2.    0.75]]\n",
      "meaned.mean(0): \n",
      "[0. 0. 0. 0. 0. 0. 0.]\n"
     ]
    }
   ],
   "source": [
    "import numpy as np\n",
    "\n",
    "weathers = np.array(\n",
    "    [\n",
    "        [20, 21, 22, 18, 19, 21, 22],\n",
    "        [18, 21, 23, 19, 18, 21, 13],\n",
    "        [18, 19, 22, 21, 21, 17, 16],\n",
    "        [15, 18, 20, 19, 21, 17, 18],\n",
    "    ]\n",
    ")\n",
    "print(f\"weather mean: \\n{weathers.mean(0)}\")\n",
    "meaned = weathers - weathers.mean(0)\n",
    "print(f\"meaned: \\n{meaned}\")\n",
    "print(f\"meaned.mean(0): \\n{meaned.mean(0)}\")"
   ]
  },
  {
   "cell_type": "markdown",
   "metadata": {},
   "source": [
    "行方向上取均值，即沿着 1 轴取均值，结果为 1 行 m 列，需要 reshape 成 m 行 1 列。"
   ]
  },
  {
   "cell_type": "code",
   "execution_count": 7,
   "metadata": {},
   "outputs": [
    {
     "name": "stdout",
     "output_type": "stream",
     "text": [
      "mean(1) reshaped to (4,1): \n",
      "[[20.42857143]\n",
      " [19.        ]\n",
      " [19.14285714]\n",
      " [18.28571429]]\n",
      "meaned: \n",
      "[[-0.42857143  0.57142857  1.57142857 -2.42857143 -1.42857143  0.57142857\n",
      "   1.57142857]\n",
      " [-1.          2.          4.          0.         -1.          2.\n",
      "  -6.        ]\n",
      " [-1.14285714 -0.14285714  2.85714286  1.85714286  1.85714286 -2.14285714\n",
      "  -3.14285714]\n",
      " [-3.28571429 -0.28571429  1.71428571  0.71428571  2.71428571 -1.28571429\n",
      "  -0.28571429]]\n",
      "meaned.mean(1): \n",
      "[1.52259158e-15 0.00000000e+00 5.07530526e-16 1.01506105e-15]\n"
     ]
    }
   ],
   "source": [
    "print(f\"mean(1) reshaped to (4,1): \\n{weathers.mean(1).reshape(4,1)}\")\n",
    "meaned = weathers - weathers.mean(1).reshape(4, 1)\n",
    "print(f\"meaned: \\n{meaned}\")\n",
    "print(f\"meaned.mean(1): \\n{meaned.mean(1)}\")"
   ]
  },
  {
   "cell_type": "markdown",
   "metadata": {},
   "source": [
    "### 数组广播的妙用"
   ]
  },
  {
   "cell_type": "code",
   "execution_count": 9,
   "metadata": {},
   "outputs": [
    {
     "name": "stdout",
     "output_type": "stream",
     "text": [
      "original array:\n",
      "[[1. 1. 1. 1. 1. 1.]\n",
      " [1. 1. 1. 1. 1. 1.]\n",
      " [1. 1. 1. 1. 1. 1.]\n",
      " [1. 1. 1. 1. 1. 1.]]\n",
      "arr * 7:\n",
      "[[7. 7. 7. 7. 7. 7.]\n",
      " [7. 7. 7. 7. 7. 7.]\n",
      " [7. 7. 7. 7. 7. 7.]\n",
      " [7. 7. 7. 7. 7. 7.]]\n"
     ]
    }
   ],
   "source": [
    "import numpy as np\n",
    "\n",
    "arr = np.ones((4, 6))\n",
    "print(f\"original array:\\n{arr}\")\n",
    "arr = arr * 7\n",
    "print(f\"arr * 7:\\n{arr}\")"
   ]
  }
 ],
 "metadata": {
  "kernelspec": {
   "display_name": "base",
   "language": "python",
   "name": "python3"
  },
  "language_info": {
   "codemirror_mode": {
    "name": "ipython",
    "version": 3
   },
   "file_extension": ".py",
   "mimetype": "text/x-python",
   "name": "python",
   "nbconvert_exporter": "python",
   "pygments_lexer": "ipython3",
   "version": "3.12.2"
  }
 },
 "nbformat": 4,
 "nbformat_minor": 2
}
