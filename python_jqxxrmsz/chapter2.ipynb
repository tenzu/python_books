{
 "cells": [
  {
   "cell_type": "markdown",
   "metadata": {},
   "source": [
    "## 2.2 NumPy 模块的数组对象"
   ]
  },
  {
   "cell_type": "markdown",
   "metadata": {},
   "source": [
    "### 2.2.1 创建数组对象"
   ]
  },
  {
   "cell_type": "code",
   "execution_count": null,
   "metadata": {},
   "outputs": [],
   "source": [
    "import numpy as np\n",
    "\n",
    "arr1 = np.array([10, 20, 30, 40, 50])\n",
    "print(arr1)\n",
    "print(f\"arr1 shape: {arr1.shape}\")"
   ]
  },
  {
   "cell_type": "code",
   "execution_count": null,
   "metadata": {},
   "outputs": [],
   "source": [
    "arr2 = np.array([10, 20, 30, 40, 50], ndmin=2)\n",
    "print(arr2)\n",
    "print(f\"arr2 shape: {arr2.shape}\")"
   ]
  },
  {
   "cell_type": "code",
   "execution_count": null,
   "metadata": {},
   "outputs": [],
   "source": [
    "arr3 = np.array([10, 20, 30, 40, 50], dtype=complex)\n",
    "print(arr3)\n",
    "print(f\"arr3 shape: {arr3.shape}\")"
   ]
  },
  {
   "cell_type": "code",
   "execution_count": null,
   "metadata": {},
   "outputs": [],
   "source": [
    "lists1 = [[101, 202, 303], [404, 505, 606]]\n",
    "arr4 = np.array(lists1)\n",
    "print(f\"arr4 type: {type(arr4)}\")\n",
    "print(f\"arr4 shape: {arr4.shape}\")"
   ]
  },
  {
   "cell_type": "code",
   "execution_count": null,
   "metadata": {},
   "outputs": [],
   "source": [
    "arr5 = np.zeros((3, 4))\n",
    "print(arr5)"
   ]
  },
  {
   "cell_type": "code",
   "execution_count": null,
   "metadata": {},
   "outputs": [],
   "source": [
    "arr6 = np.ones((3, 4))\n",
    "print(arr6)"
   ]
  },
  {
   "cell_type": "code",
   "execution_count": null,
   "metadata": {},
   "outputs": [],
   "source": [
    "arr7 = np.eye(4)\n",
    "print(arr7)"
   ]
  },
  {
   "cell_type": "code",
   "execution_count": null,
   "metadata": {},
   "outputs": [],
   "source": [
    "arr8 = np.identity(4)\n",
    "print(arr8)"
   ]
  },
  {
   "cell_type": "code",
   "execution_count": null,
   "metadata": {},
   "outputs": [],
   "source": [
    "arr9 = np.empty((3, 4))\n",
    "print(arr9)"
   ]
  },
  {
   "cell_type": "markdown",
   "metadata": {},
   "source": [
    "### 2.2.2 数组对象类型的说明"
   ]
  },
  {
   "cell_type": "code",
   "execution_count": null,
   "metadata": {},
   "outputs": [],
   "source": [
    "import numpy as np\n",
    "\n",
    "arr1 = np.array([12.5, 136.7, 24.6, 35.5, 109.8])\n",
    "int_arr1 = arr1.astype(int)\n",
    "str_arr1 = arr1.astype(str)\n",
    "print(\n",
    "    f\"arr1 dtype: {arr1.dtype}\\nint_arr1 dtype: {int_arr1.dtype}\\nstr_arr1 dtype: {str_arr1.dtype}\"\n",
    ")"
   ]
  },
  {
   "cell_type": "markdown",
   "metadata": {},
   "source": [
    "### 2.2.3 随机生成数组"
   ]
  },
  {
   "cell_type": "code",
   "execution_count": null,
   "metadata": {},
   "outputs": [],
   "source": [
    "import numpy as np\n",
    "\n",
    "samples = np.random.normal(size=(4, 4))\n",
    "print(samples)"
   ]
  },
  {
   "cell_type": "code",
   "execution_count": null,
   "metadata": {},
   "outputs": [],
   "source": [
    "from random import normalvariate\n",
    "import time\n",
    "import numpy as np\n",
    "\n",
    "n = 10000000\n",
    "start = time.time()\n",
    "samples = [normalvariate(0, 1) for i in range(n)]\n",
    "times = np.random.normal(size=n)\n",
    "end = time.time()\n",
    "print(f\"from start to end: {end - start} seconds\")"
   ]
  },
  {
   "cell_type": "markdown",
   "metadata": {},
   "source": [
    "## NumPy 模块中数组的广播"
   ]
  },
  {
   "cell_type": "code",
   "execution_count": null,
   "metadata": {},
   "outputs": [],
   "source": [
    "import numpy as np\n",
    "\n",
    "arr1 = np.array([[10, 20, 30], [7, 8, 9]])\n",
    "multi_arr = arr1 * arr1\n",
    "sub_arr = arr1 - arr1\n",
    "print(f\"大小相等的数组实现乘法：\\n{multi_arr}\")\n",
    "print(f\"大小相等的数组实现减法：\\n{sub_arr}\")"
   ]
  },
  {
   "cell_type": "code",
   "execution_count": null,
   "metadata": {},
   "outputs": [],
   "source": [
    "divide_arr = 100 / arr1\n",
    "multi_arr = arr1 * 0.5\n",
    "print(f\"数组与标量值的除法运算：\\n{divide_arr}\")\n",
    "print(f\"数组与标量值的乘法运算：\\n{multi_arr}\")"
   ]
  },
  {
   "cell_type": "markdown",
   "metadata": {},
   "source": [
    "### 2.3.1 数组广播的原则\n",
    "列方向上取均值，即沿着 0 轴取均值，结果为 1 行 n 列。"
   ]
  },
  {
   "cell_type": "code",
   "execution_count": null,
   "metadata": {},
   "outputs": [],
   "source": [
    "import numpy as np\n",
    "\n",
    "weathers = np.array(\n",
    "    [\n",
    "        [20, 21, 22, 18, 19, 21, 22],\n",
    "        [18, 21, 23, 19, 18, 21, 13],\n",
    "        [18, 19, 22, 21, 21, 17, 16],\n",
    "        [15, 18, 20, 19, 21, 17, 18],\n",
    "    ]\n",
    ")\n",
    "print(f\"weather mean: \\n{weathers.mean(0)}\")\n",
    "meaned = weathers - weathers.mean(0)\n",
    "print(f\"meaned: \\n{meaned}\")\n",
    "print(f\"meaned.mean(0): \\n{meaned.mean(0)}\")"
   ]
  },
  {
   "cell_type": "markdown",
   "metadata": {},
   "source": [
    "行方向上取均值，即沿着 1 轴取均值，结果为 1 行 m 列，需要 reshape 成 m 行 1 列。"
   ]
  },
  {
   "cell_type": "code",
   "execution_count": null,
   "metadata": {},
   "outputs": [],
   "source": [
    "print(f\"mean(1) reshaped to (4,1): \\n{weathers.mean(1).reshape(4,1)}\")\n",
    "meaned = weathers - weathers.mean(1).reshape(4, 1)\n",
    "print(f\"meaned: \\n{meaned}\")\n",
    "print(f\"meaned.mean(1): \\n{meaned.mean(1)}\")"
   ]
  },
  {
   "cell_type": "markdown",
   "metadata": {},
   "source": [
    "### 数组广播的妙用"
   ]
  },
  {
   "cell_type": "code",
   "execution_count": null,
   "metadata": {},
   "outputs": [],
   "source": [
    "import numpy as np\n",
    "\n",
    "arr = np.ones((4, 6))\n",
    "print(f\"original arr:\\n{arr}\")\n",
    "arr = arr * 7\n",
    "print(f\"arr * 7:\\n{arr}\")\n",
    "arr1 = np.ones((4, 6))\n",
    "print(f\"original arr1:\\n{arr1}\")\n",
    "arr1[:] = 8\n",
    "print(f\"arr1 after broadcasting:\\n{arr1}\")\n",
    "arr1[1:3, 2:5] = 9\n",
    "print(f\"arr1 after slicing:\\n{arr1}\")"
   ]
  },
  {
   "cell_type": "markdown",
   "metadata": {},
   "source": [
    "## 2.4NumPy 模块中数组的操作\n",
    "### 2.4.1 基本的索引"
   ]
  },
  {
   "cell_type": "code",
   "execution_count": null,
   "metadata": {},
   "outputs": [],
   "source": [
    "import numpy as np\n",
    "\n",
    "arr = np.array([3.1, 3.14, 3.141, 3.1415, 3.14159, 3.141592, 3.1415926, 3.14159265])\n",
    "print(f\"original arr: \\n{arr}\")\n",
    "print(f\"arr[4]: {arr[4]}\")\n",
    "print(f\"-\" * 20)\n",
    "print(f\"arr[3:6]: {arr[3:6]}\")\n",
    "print(f\"-\" * 20)\n",
    "print(f\"arr: \\n{arr}\")\n",
    "print(f\"-\" * 20)\n",
    "arr1 = arr.reshape(2, -1)\n",
    "print(f\"ofiginal arr1: \\n{arr1}\")\n",
    "print(f\"arr1[0][2]: {arr1[0][2]}\")\n",
    "print(f\"arr1[0,2]: {arr1[0,2]}\")"
   ]
  },
  {
   "cell_type": "markdown",
   "metadata": {},
   "source": [
    "### 2.4.2 切片的索引"
   ]
  },
  {
   "cell_type": "code",
   "execution_count": null,
   "metadata": {},
   "outputs": [],
   "source": [
    "import numpy as np\n",
    "\n",
    "arr = np.array(\n",
    "    [[[3.1, 3.14], [3.141, 3.1415]], [[3.14159, 3.141592], [3.1415926, 3.14159265]]]\n",
    ")\n",
    "print(f\"arr: \\n{arr}\")\n",
    "print(f\"arr.shape: {arr.shape}\")\n",
    "print(f\"arr[:1,:1]: {arr[:1,:1]}\")\n",
    "print(f\"-\" * 20)\n",
    "arr[:2, :1] = 3.14159265358\n",
    "print(f\"sliced arr after broadcasting: \\n{arr}\")"
   ]
  },
  {
   "cell_type": "markdown",
   "metadata": {},
   "source": [
    "### 2.4.3 布尔型索引"
   ]
  },
  {
   "cell_type": "code",
   "execution_count": null,
   "metadata": {},
   "outputs": [],
   "source": [
    "import numpy as np\n",
    "\n",
    "names = np.array([\"业务员\", \"业务员\", \"经理\", \"主管\", \"业务员\", \"主管\"])\n",
    "salary = np.array([2520.00, 3600.00, 2745.00, 4200.00, 3805.00, 3947.00])\n",
    "print(f\"业务员薪水：{salary[names=='业务员']}\")\n",
    "print(f\"-\" * 20)\n",
    "print(f\"其他人薪水：{salary[names!='业务员']}\")\n",
    "print(f\"-\" * 20)\n",
    "print(f\"经理或主管薪水：{salary[(names=='经理') | (names=='主管')]}\")\n",
    "print(f\"-\" * 20)\n",
    "print(f\"大于3500的业务员薪水：{salary[(names=='业务员') & (salary>3500)]}\")"
   ]
  },
  {
   "cell_type": "markdown",
   "metadata": {},
   "source": [
    "### 2.4.4 数组的转置和轴变换"
   ]
  },
  {
   "cell_type": "code",
   "execution_count": null,
   "metadata": {},
   "outputs": [],
   "source": [
    "import numpy as np\n",
    "\n",
    "arr = np.array(\n",
    "    [\n",
    "        [1, 1, 1, 1, 1],\n",
    "        [2, 2, 2, 2, 2],\n",
    "        [3, 3, 3, 3, 3],\n",
    "        [4, 4, 4, 4, 4],\n",
    "        [5, 5, 5, 5, 5],\n",
    "    ]\n",
    ")\n",
    "print(f\"original arr:\\n{arr}\")\n",
    "arr_trans = arr.transpose()\n",
    "print(f\"transposed arr:\\n{arr_trans}\")\n",
    "arr_trans1 = arr.T\n",
    "print(f\"transposed arr using T:\\n{arr_trans1}\")"
   ]
  },
  {
   "cell_type": "code",
   "execution_count": null,
   "metadata": {},
   "outputs": [],
   "source": [
    "arr = np.random.randn(\n",
    "    4,\n",
    ")\n",
    "print(f\"original array:\\n{arr}\")\n",
    "print(f\"arr.shape:\\n{arr.shape}\")\n",
    "print(f\"arr.T\\n{arr.T}\")\n",
    "print(f\"arr.T.shape:\\n{arr.T.shape}\")\n",
    "result = np.dot(arr.T, arr)\n",
    "print(f\"arr.T * arr:\\n{result}\")"
   ]
  },
  {
   "cell_type": "code",
   "execution_count": null,
   "metadata": {},
   "outputs": [],
   "source": [
    "arr = np.arange(24).reshape(2, 3, 4)\n",
    "print(f\"original array:\\n{arr}\")\n",
    "print(f\"arr shape:\\n{arr.shape}\")\n",
    "print(f\"(2,3,4) 表示 3 行 4 列 2 层\")\n",
    "print(f\"-\" * 20)\n",
    "trans_arr = arr.transpose(1, 0, 2)\n",
    "print(f\"(1,0,2) 表示0轴与1轴交换，2轴不变\")\n",
    "print(f\"transposed array:\\n{trans_arr}\")\n",
    "print(f\"trans_arr shape:\\n{trans_arr.shape}\")\n",
    "print(f\"(3,2,4) 表示 2 行 4 列 3 层\")"
   ]
  },
  {
   "cell_type": "markdown",
   "metadata": {},
   "source": [
    "### 2.4.5 元素的重复操作： repeat() 和 tile()"
   ]
  },
  {
   "cell_type": "code",
   "execution_count": null,
   "metadata": {},
   "outputs": [],
   "source": [
    "import numpy as np\n",
    "\n",
    "arr1 = np.array([3])\n",
    "print(f\"original array:\\n{arr1}\")\n",
    "repeat_arr1 = arr1.repeat(3)\n",
    "print(f\"repeated array:\\n{repeat_arr1}\")\n",
    "print(f\"-\" * 20)\n",
    "arr2 = np.eye(3)\n",
    "print(f\"original array:\\n{arr2}\")\n",
    "repeat_arr2 = arr2.repeat(3)\n",
    "print(f\"数组被扁平化：\")\n",
    "print(f\"repeated array:\\n{repeat_arr2}\")\n",
    "print(f\"指定维度：沿着0轴方向重复，即在行上重复\")\n",
    "repeat_arr2 = arr2.repeat(3, axis=0)\n",
    "print(f\"repeated array:\\n{repeat_arr2}\")"
   ]
  },
  {
   "cell_type": "markdown",
   "metadata": {},
   "source": [
    "## 2.5 通用方法"
   ]
  },
  {
   "cell_type": "code",
   "execution_count": null,
   "metadata": {},
   "outputs": [],
   "source": [
    "import numpy as np\n",
    "\n",
    "arr = np.arange(10)\n",
    "print(f\"original array:\\n{arr}\")\n",
    "print(f\"after sqrt:\\n{np.sqrt(arr)}\")\n",
    "print(f\"-\" * 20)\n",
    "max_arr = np.maximum([5, -3, 9], [1, -9, 18])\n",
    "max_arr1 = np.maximum(np.eye(3), [0.6, -2, 4])\n",
    "print(f\"maximum() 比较对应索引位置上的元素大小，保留大值\")\n",
    "print(f\"maximum of max_arr is:\\n[{max_arr}]\")\n",
    "print(f\"maximum of max_arr1 is:\\n{max_arr1}\")\n",
    "print(f\"-\" * 20)\n",
    "arr = np.arange(11)\n",
    "print(f\"original array:\\n{arr}\")\n",
    "sum_arr = np.add.reduce(arr)\n",
    "print(f\"add.reduce() 对数组元素进行累加\")\n",
    "print(f\"sum of arr is:\\n{sum_arr}\")"
   ]
  },
  {
   "cell_type": "markdown",
   "metadata": {},
   "source": [
    "## 2.6 利用数组进行运算\n",
    "采用NumPy中的数组,不用编写循环代码,就可以将许多种数据处理任务表述为简洁的数组表达式  \n",
    "用数组表达式代替循环代码的做法,通常被称为矢量化  \n",
    "一般来说,矢量化数组运算要比等价的纯Python运算快上一两个数量级\n",
    "### 2.6.1 用数学方法进行统计"
   ]
  },
  {
   "cell_type": "code",
   "execution_count": null,
   "metadata": {},
   "outputs": [],
   "source": [
    "import numpy as np\n",
    "\n",
    "arr1 = np.arange(101)\n",
    "sum_arr1 = arr1.sum()\n",
    "mean_arr1 = arr1.mean()\n",
    "std_arr1 = arr1.std()\n",
    "print(f\"original array:\\n{arr1}\")\n",
    "print(f\"sum of array:\\n{sum_arr1}\")\n",
    "print(f\"mean of array:\\n{mean_arr1}\")\n",
    "print(f\"standard deviation of array:\\n{std_arr1}\")\n",
    "print(f\"-\" * 20)\n",
    "arr2 = np.arange(100)\n",
    "arr2 = arr2.reshape(4, 25)\n",
    "sum_arr2 = arr2.sum(axis=1)\n",
    "mean_arr2 = arr2.mean(axis=1)\n",
    "std_arr2 = arr2.std(axis=1)\n",
    "print(f\"original array:\\n{arr2}\")\n",
    "print(f\"sum of array:\\n{sum_arr2}\")\n",
    "print(f\"mean of array:\\n{mean_arr2}\")\n",
    "print(f\"standard deviation of array:\\n{std_arr2}\")\n",
    "print(f\"-\" * 20)\n",
    "arr3 = np.arange(100)\n",
    "arr3 = arr3.reshape(4, 25)\n",
    "sum_arr3 = arr3.cumsum(0)\n",
    "multi_arr = arr.cumprod(1)\n",
    "print(f\"original array:\\n{arr3}\")\n",
    "print(f\"cumulative sum of array:\\n{sum_arr3}\")\n",
    "print(f\"cumulative product of array:\\n{multi_arr}\")"
   ]
  },
  {
   "cell_type": "markdown",
   "metadata": {},
   "source": [
    "### 2.6.2 数组中布尔值的统计"
   ]
  },
  {
   "cell_type": "code",
   "execution_count": null,
   "metadata": {},
   "outputs": [],
   "source": [
    "import numpy as np\n",
    "\n",
    "arr = np.array([[20, -33, 40, -46, 56], [13, 25, -17, 98, -20]])\n",
    "print(f\"original array:\\n{arr}\")\n",
    "print(f\"大于零的元素：{arr[arr>0]}\")\n",
    "sum_arr = (arr > 0).sum()\n",
    "print(f\"对大于零的元素计数：{sum_arr}\")\n",
    "sum_arr = arr[arr > 0].sum()\n",
    "print(f\"对大于零的元素求和：{sum_arr}\")\n",
    "print(f\"-\" * 20)\n",
    "arr_bool = arr > 0\n",
    "any_bool = arr_bool.any()\n",
    "all_bool = arr_bool.all()\n",
    "print(f\"any_bool={any_bool}, all_bool={all_bool}\")"
   ]
  },
  {
   "cell_type": "markdown",
   "metadata": {},
   "source": [
    "### 2.6.3 将条件逻辑表述为数组运算\n",
    "这里所说的条件逻辑表达式就是指where()方法,这个方法是一个三元表达式x if condition else y 的矢量化版本  \n"
   ]
  },
  {
   "cell_type": "code",
   "execution_count": null,
   "metadata": {},
   "outputs": [],
   "source": [
    "import numpy as np\n",
    "\n",
    "red_arr1 = np.array([20, 30, 40, 50, 60, 70, 80, 90])\n",
    "red_arr2 = np.array([0.2, 0.3, 0.4, 0.5, 0.6, 0.7, 0.8, 0.9])\n",
    "bool_arr = np.array([True, False, True, False, True, False, False, True])\n",
    "red_result = np.where(bool_arr, red_arr1, red_arr2)\n",
    "print(f\"布尔值为True发红包1，否则发红包2:\\n{red_result}\")"
   ]
  },
  {
   "cell_type": "markdown",
   "metadata": {},
   "source": [
    "### 2.6.4 数组的合并和拆分"
   ]
  },
  {
   "cell_type": "code",
   "execution_count": null,
   "metadata": {},
   "outputs": [],
   "source": [
    "import numpy as np\n",
    "\n",
    "men = np.array([[20, 21, 23], [25, 26, 27]])\n",
    "women = np.array([[23, 22, 20], [27, 28, 26]])\n",
    "print(f\"original men's ages:\\n{men}\")\n",
    "print(f\"men age shape: {men.shape}\")\n",
    "print(f\"original women's ages:\\n{women}\")\n",
    "print(f\"women age shape: {women.shape}\")\n",
    "print(f\"-\" * 20)\n",
    "all = np.concatenate((men, women), axis=0)\n",
    "cope = np.concatenate((men, women), axis=1)\n",
    "print(f\"沿0轴方向合并:\\n{all}\")\n",
    "print(f\"沿1轴方向合并:\\n{cope}\")"
   ]
  },
  {
   "cell_type": "code",
   "execution_count": null,
   "metadata": {},
   "outputs": [],
   "source": [
    "cope = np.array([20, 21, 23, 23, 22, 20, 25, 26, 27, 27, 28, 26])\n",
    "print(f\"原始数据：{cope}\")\n",
    "split_cope = np.split(cope, [1, 3, 6, 7])\n",
    "print(f\"在第1、3、6、7个数据点拆分后的数据：{split_cope}\")"
   ]
  },
  {
   "cell_type": "markdown",
   "metadata": {},
   "source": [
    "### 2.6.5 数组的排序"
   ]
  },
  {
   "cell_type": "code",
   "execution_count": null,
   "metadata": {},
   "outputs": [],
   "source": [
    "import numpy as np\n",
    "\n",
    "cope = np.array([20, 21, 23, 23, 22, 20, 25, 26, 27, 27, 28, 26])\n",
    "print(f\"原始数组:\\n{cope}\")\n",
    "print(f\"排序后的数组:\\n{np.sort(cope)}\")\n",
    "print(f\"-\" * 20)\n",
    "cope = np.array([[20, 23, 21, 22, 24], [28, 25, 27, 26, 29]])\n",
    "print(f\"原始数组:\\n{cope}\")\n",
    "print(f\"沿着1轴排序后的数组:\\n{np.sort(cope,axis=1)}\")"
   ]
  },
  {
   "cell_type": "markdown",
   "metadata": {},
   "source": [
    "### 2.6.6 数组的集合运算"
   ]
  },
  {
   "cell_type": "code",
   "execution_count": null,
   "metadata": {},
   "outputs": [],
   "source": [
    "import numpy as np\n",
    "\n",
    "names = np.array([\"经理\", \"副经理\", \"主管\", \"主管\", \"主管\", \"技术员\", \"业务员\"])\n",
    "uni_names = np.unique(names)\n",
    "print(f\"去重后的元素:\\n{uni_names}\")\n",
    "print(f\"-\" * 20)\n",
    "my_names = np.array([\"主管\", \"技术员\"])\n",
    "uni_names = np.in1d(names, my_names)\n",
    "print(f\"是否包含指定的元素:\\n{uni_names}\")"
   ]
  },
  {
   "cell_type": "markdown",
   "metadata": {},
   "source": [
    "## 2.7 数组文件的输入和输出\n",
    "### 2.7.1 将数组以二进制的形式读取文件"
   ]
  },
  {
   "cell_type": "code",
   "execution_count": 1,
   "metadata": {},
   "outputs": [],
   "source": [
    "import numpy as np\n",
    "\n",
    "arr = np.random.randn(20)\n",
    "np.save(\"arr_file\", arr)"
   ]
  },
  {
   "cell_type": "code",
   "execution_count": null,
   "metadata": {},
   "outputs": [],
   "source": [
    "arr1= np.load(\"arr_file.npy\")\n",
    "print(f\"arr1:\\n{arr1}\")\n",
    "print(f\"arr1 mean: {arr1.mean()}\")\n",
    "print(f\"arr1 std: {arr1.std()}\")"
   ]
  }
 ],
 "metadata": {
  "kernelspec": {
   "display_name": "base",
   "language": "python",
   "name": "python3"
  },
  "language_info": {
   "codemirror_mode": {
    "name": "ipython",
    "version": 3
   },
   "file_extension": ".py",
   "mimetype": "text/x-python",
   "name": "python",
   "nbconvert_exporter": "python",
   "pygments_lexer": "ipython3",
   "version": "3.12.2"
  }
 },
 "nbformat": 4,
 "nbformat_minor": 2
}
