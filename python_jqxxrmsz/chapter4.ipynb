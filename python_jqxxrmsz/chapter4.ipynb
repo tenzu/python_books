{
 "cells": [
  {
   "cell_type": "markdown",
   "metadata": {},
   "source": [
    "## 4.1 Matplotlib 绘图入门\n",
    "### 4.1.1 Figure 和 subplot"
   ]
  },
  {
   "cell_type": "code",
   "execution_count": null,
   "metadata": {},
   "outputs": [],
   "source": [
    "from matplotlib import pyplot as plt\n",
    "\n",
    "fig, ax = plt.subplots(2, 3)\n",
    "ax[0, 1].plot([2.0, 4.0, 8.0, 10.0], [1.0, 3.0, 2.0, 6.0], \"r--\")\n",
    "plt.show()"
   ]
  },
  {
   "cell_type": "markdown",
   "metadata": {},
   "source": [
    "### 4.1.2 颜色、标记和线型"
   ]
  },
  {
   "cell_type": "code",
   "execution_count": null,
   "metadata": {},
   "outputs": [],
   "source": [
    "from matplotlib import pyplot as plt\n",
    "\n",
    "fig, ax = plt.subplots(1, 1)\n",
    "ax.plot([2.0, 4.0, 8.0, 10.0], [1.0, 3.0, 2.0, 6.0], \"r*--\")\n",
    "plt.show()"
   ]
  },
  {
   "cell_type": "markdown",
   "metadata": {},
   "source": [
    "### 4.1.3 坐标轴标记"
   ]
  },
  {
   "cell_type": "code",
   "execution_count": null,
   "metadata": {},
   "outputs": [],
   "source": [
    "from matplotlib import pyplot as plt\n",
    "\n",
    "fig, ax = plt.subplots(1, 1)\n",
    "ax.plot([2.0, 4.0, 8.0, 10.0], [1.0, 3.0, 2.0, 6.0], \"r*--\")\n",
    "ax.set_xticks([0, 5.0, 10.0])\n",
    "ax.set_xticklabels([\"zero\", \"five\", \"ten\"])\n",
    "ax.set_xlabel(\"horizontal axis\")\n",
    "ax.set_title(\"Title of the plot\")\n",
    "plt.show()"
   ]
  },
  {
   "cell_type": "markdown",
   "metadata": {},
   "source": [
    "### 4.1.4 添加图例"
   ]
  },
  {
   "cell_type": "code",
   "execution_count": null,
   "metadata": {},
   "outputs": [],
   "source": [
    "from matplotlib import pyplot as plt\n",
    "\n",
    "fig, ax = plt.subplots(1, 1)\n",
    "ax.plot([2.0, 4.0, 8.0, 10.0], [1.0, 3.0, 2.0, 6.0], \"r*--\", label=\"Data 1\")\n",
    "ax.plot([1.0, 2.0, 3.0, 4.0], [2.0, 4.0, 1.0, 3.0], \"bv-.\", label=\"Data 2\")\n",
    "ax.set_xticks([0, 5.0, 10.0])\n",
    "ax.set_xticklabels([\"zero\", \"five\", \"ten\"])\n",
    "ax.set_xlabel(\"horizontal axis\")\n",
    "ax.set_title(\"Title of the plot\")\n",
    "ax.legend(prop={\"size\": 10})\n",
    "plt.show()"
   ]
  },
  {
   "cell_type": "markdown",
   "metadata": {},
   "source": [
    "### 4.1.5 注解"
   ]
  },
  {
   "cell_type": "code",
   "execution_count": null,
   "metadata": {},
   "outputs": [],
   "source": [
    "from matplotlib import pyplot as plt\n",
    "\n",
    "fig, ax = plt.subplots(1, 1)\n",
    "ax.plot([2.0, 4.0, 8.0, 10.0], [1.0, 3.0, 2.0, 6.0], \"r*--\", label=\"Data 1\")\n",
    "ax.plot([1.0, 2.0, 3.0, 4.0], [2.0, 4.0, 1.0, 3.0], \"bv-.\", label=\"Data 2\")\n",
    "ax.text(1.7, 1.1, \"A\", color=\"r\")\n",
    "ax.text(3.6, 3.1, \"B\", color=\"b\")\n",
    "ax.set_xticks([0, 5.0, 10.0])\n",
    "ax.set_xticklabels([\"zero\", \"five\", \"ten\"])\n",
    "ax.set_xlabel(\"horizontal axis\")\n",
    "ax.set_title(\"Title of the plot\")\n",
    "ax.legend(prop={\"size\": 10})\n",
    "plt.show()"
   ]
  },
  {
   "cell_type": "markdown",
   "metadata": {},
   "source": [
    "### 4.1.6 将图表保存到文件"
   ]
  },
  {
   "cell_type": "code",
   "execution_count": null,
   "metadata": {},
   "outputs": [],
   "source": [
    "from matplotlib import pyplot as plt\n",
    "\n",
    "fig, ax = plt.subplots(1, 1)\n",
    "plt.rcParams['font.sans-serif'] = ['STHeiti']  # 用来正常显示中文标签\n",
    "ax.plot([2.0, 4.0, 8.0, 10.0], [1.0, 3.0, 2.0, 6.0], \"r*--\", label=\"Data 1\")\n",
    "ax.plot([1.0, 2.0, 3.0, 4.0], [2.0, 4.0, 1.0, 3.0], \"bv-.\", label=\"Data 2\")\n",
    "ax.text(1.7, 1.1, \"A\", color=\"r\")\n",
    "ax.text(3.6, 3.1, \"B\", color=\"b\")\n",
    "ax.set_xticks([0, 5.0, 10.0])\n",
    "ax.set_xticklabels([\"零\", \"五\", \"十\"])\n",
    "ax.set_xlabel(\"水平轴\")\n",
    "ax.set_title(\"绘图示例\")\n",
    "ax.legend(prop={\"size\": 10})\n",
    "plt.savefig(\"result.png\", dpi=400, bbox_inches=\"tight\")"
   ]
  },
  {
   "cell_type": "markdown",
   "metadata": {},
   "source": [
    "## 4.2 matplotlib 的绘图方法\n",
    "### 4.2.1 线型图"
   ]
  },
  {
   "cell_type": "code",
   "execution_count": null,
   "metadata": {},
   "outputs": [],
   "source": [
    "from matplotlib import pyplot as plt\n",
    "import numpy as np\n",
    "\n",
    "x = np.linspace(0, 10, 100)\n",
    "sin_y = np.sin(x)\n",
    "plt.plot(x, sin_y)\n",
    "cos_y = np.cos(x)\n",
    "plt.plot(x, cos_y)\n",
    "plt.show()"
   ]
  },
  {
   "cell_type": "markdown",
   "metadata": {},
   "source": [
    "### 4.2.2 饼图"
   ]
  },
  {
   "cell_type": "code",
   "execution_count": null,
   "metadata": {},
   "outputs": [],
   "source": [
    "from matplotlib import pyplot as plt\n",
    "plt.rcParams['font.sans-serif'] = ['STHeiti']  # 用来正常显示中文标签\n",
    "explode = (0.02,0,0,0)\n",
    "labels = [\"宠物猫\",\"宠物狗\",\"宠物鼠\",\"宠物鸟\"]\n",
    "sizes = [20,16,5,6]\n",
    "fig = plt.figure()\n",
    "ax = fig.add_subplot()\n",
    "ax.pie(sizes,explode=explode,labels=labels,autopct='%1.2f%%')\n",
    "ax.set_title(\"宠物数量分布图\")\n",
    "plt.show()"
   ]
  },
  {
   "cell_type": "markdown",
   "metadata": {},
   "source": [
    "### 4.2.3 直方图"
   ]
  },
  {
   "cell_type": "code",
   "execution_count": null,
   "metadata": {},
   "outputs": [],
   "source": [
    "from matplotlib import pyplot as plt\n",
    "\n",
    "plt.rcParams[\"font.sans-serif\"] = [\"STHeiti\"]  # 用来正常显示中文标签\n",
    "data=[1450,300,2100,600,1800,1670]\n",
    "fig = plt.figure()\n",
    "ax = fig.add_subplot()\n",
    "plt.hist(data, bins=6, facecolor=\"blue\", edgecolor=\"black\", alpha=0.7)\n",
    "ax.set_title(\"商品销量对比\")\n",
    "plt.show()"
   ]
  }
 ],
 "metadata": {
  "kernelspec": {
   "display_name": "base",
   "language": "python",
   "name": "python3"
  },
  "language_info": {
   "codemirror_mode": {
    "name": "ipython",
    "version": 3
   },
   "file_extension": ".py",
   "mimetype": "text/x-python",
   "name": "python",
   "nbconvert_exporter": "python",
   "pygments_lexer": "ipython3",
   "version": "3.12.2"
  }
 },
 "nbformat": 4,
 "nbformat_minor": 2
}
