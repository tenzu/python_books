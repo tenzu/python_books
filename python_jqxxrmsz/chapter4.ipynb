{
 "cells": [
  {
   "cell_type": "markdown",
   "metadata": {},
   "source": [
    "## 4.1 Matplotlib 绘图入门\n",
    "### 4.1.1 Figure 和 subplot"
   ]
  },
  {
   "cell_type": "code",
   "execution_count": null,
   "metadata": {},
   "outputs": [],
   "source": [
    "import matplotlib.pyplot as plt\n",
    "\n",
    "fig, axes = plt.subplots(2, 3)\n",
    "axes[0, 1].plot([2.0, 4.0, 8.0, 10.0], [1.0, 3.0, 2.0, 6.0], \"r--\")\n",
    "plt.show()"
   ]
  },
  {
   "cell_type": "markdown",
   "metadata": {},
   "source": [
    "### 4.1.2 颜色、标记和线型"
   ]
  },
  {
   "cell_type": "code",
   "execution_count": null,
   "metadata": {},
   "outputs": [],
   "source": [
    "import matplotlib.pyplot as plt\n",
    "\n",
    "fig, axes = plt.subplots(1, 1)\n",
    "axes.plot([2.0, 4.0, 8.0, 10.0], [1.0, 3.0, 2.0, 6.0], \"r*--\")\n",
    "plt.show()"
   ]
  },
  {
   "cell_type": "markdown",
   "metadata": {},
   "source": [
    "### 4.1.3 坐标轴标记"
   ]
  },
  {
   "cell_type": "code",
   "execution_count": null,
   "metadata": {},
   "outputs": [],
   "source": [
    "import matplotlib.pyplot as plt\n",
    "\n",
    "fig, axes = plt.subplots(1, 1)\n",
    "axes.plot([2.0, 4.0, 8.0, 10.0], [1.0, 3.0, 2.0, 6.0], \"r*--\")\n",
    "axes.set_xticks([0, 5.0, 10.0])\n",
    "axes.set_xticklabels([\"zero\", \"five\", \"ten\"])\n",
    "axes.set_xlabel(\"horizontal axis\")\n",
    "axes.set_title(\"Title of the plot\")\n",
    "plt.show()"
   ]
  },
  {
   "cell_type": "markdown",
   "metadata": {},
   "source": [
    "### 4.1.4 添加图例"
   ]
  },
  {
   "cell_type": "code",
   "execution_count": null,
   "metadata": {},
   "outputs": [],
   "source": [
    "import matplotlib.pyplot as plt\n",
    "\n",
    "fig, axes = plt.subplots(1, 1)\n",
    "axes.plot([2.0, 4.0, 8.0, 10.0], [1.0, 3.0, 2.0, 6.0], \"r*--\", label=\"Data 1\")\n",
    "axes.plot([1.0, 2.0, 3.0, 4.0], [2.0, 4.0, 1.0, 3.0], \"bv-.\", label=\"Data 2\")\n",
    "axes.set_xticks([0, 5.0, 10.0])\n",
    "axes.set_xticklabels([\"zero\", \"five\", \"ten\"])\n",
    "axes.set_xlabel(\"horizontal axis\")\n",
    "axes.set_title(\"Title of the plot\")\n",
    "axes.legend(prop={\"size\": 10})\n",
    "plt.show()"
   ]
  }
 ],
 "metadata": {
  "kernelspec": {
   "display_name": "base",
   "language": "python",
   "name": "python3"
  },
  "language_info": {
   "codemirror_mode": {
    "name": "ipython",
    "version": 3
   },
   "file_extension": ".py",
   "mimetype": "text/x-python",
   "name": "python",
   "nbconvert_exporter": "python",
   "pygments_lexer": "ipython3",
   "version": "3.12.2"
  }
 },
 "nbformat": 4,
 "nbformat_minor": 2
}
