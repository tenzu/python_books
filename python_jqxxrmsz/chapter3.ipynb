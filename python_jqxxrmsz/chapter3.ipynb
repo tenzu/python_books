{
 "cells": [
  {
   "cell_type": "markdown",
   "metadata": {},
   "source": [
    "## 3.1 Pandas 数据结构的介绍\n",
    "### 3.1.2 Series 数据类型的运算"
   ]
  },
  {
   "cell_type": "code",
   "execution_count": null,
   "metadata": {},
   "outputs": [],
   "source": [
    "from pandas import Series\n",
    "\n",
    "goods_in = Series({\"苹果\": 30, \"梨\": 25, \"香蕉\": 20, \"桃\": 21, \"李子\": 15})\n",
    "goods_other_in = Series({\"苹果\": 10, \"梨\": 20, \"香蕉\": 15, \"桃\": 10, \"西瓜\": 50})\n",
    "goods_kucun = goods_in + goods_other_in\n",
    "print(f\"库存:\\n[{goods_kucun}]\")\n",
    "print(\"注：一个 Series 中有索引而另一个没有，相加后结果为 NAN （表示空值）\")"
   ]
  },
  {
   "cell_type": "code",
   "execution_count": null,
   "metadata": {},
   "outputs": [],
   "source": [
    "import numpy as np\n",
    "\n",
    "goods = Series([30, 25, 20, 21, np.nan], index=[\"苹果\", \"梨\", \"香蕉\", \"桃\", \"李子\"])\n",
    "print(f\"original Series:\\n{goods}\")\n",
    "goods[\"李子\"] = 15\n",
    "print(f\"Series after assigning new values:\\n{goods}\")"
   ]
  },
  {
   "cell_type": "markdown",
   "metadata": {},
   "source": [
    "### 3.1.3 DataFrame 数据结构"
   ]
  },
  {
   "cell_type": "code",
   "execution_count": null,
   "metadata": {},
   "outputs": [],
   "source": [
    "from pandas import DataFrame\n",
    "\n",
    "data = {\n",
    "    \"字画名称\": [\"旭日东升\", \"富水长流\", \"招财进宝\", \"鸿运当头\"],\n",
    "    \"字画底价\": [2860, 498, 1068, 598],\n",
    "    \"字画拍卖加价\": [1000, 2000, 500, 1500],\n",
    "}\n",
    "df = DataFrame(data)\n",
    "print(f\"原始数据:\\n{df}\")\n",
    "print(\"-\" * 20)\n",
    "df1 = DataFrame(data, columns=[\"字画名称\", \"字画拍卖加价\", \"字画底价\"])\n",
    "print(f\"交换列顺序:\\n{df1}\")"
   ]
  },
  {
   "cell_type": "markdown",
   "metadata": {},
   "source": [
    "DataFrame最终是按照columns指定的顺序排列的。如果传入的列名在数据中是无法找到的,就会产生NaN值。  "
   ]
  },
  {
   "cell_type": "code",
   "execution_count": null,
   "metadata": {},
   "outputs": [],
   "source": [
    "df2 = DataFrame(\n",
    "    data, columns=[\"字画名称\", \"字画拍卖加价\", \"字画底价\", \"字画所属人\"]\n",
    ")\n",
    "print(f\"插入无数据的新列:\\n{df2}\")"
   ]
  },
  {
   "cell_type": "markdown",
   "metadata": {},
   "source": [
    "列名被指定DataFrame结构时可以通过类似字典标记的方式将列获取为一个Series结构。  \n",
    "代码中定义了字画的DataFrame之后,直接通过goods_in[\"字画底价\"]来访问“字画底价”这个维度的数据,获取的是一个Series结构的数据。  \n",
    "返回的Series拥有与原DataFrame相同的索引,且其索引值也已经被相应地设置好了。"
   ]
  },
  {
   "cell_type": "code",
   "execution_count": null,
   "metadata": {},
   "outputs": [],
   "source": [
    "df3 = DataFrame(data, index=[\"第一幅\", \"第二幅\", \"第三幅\", \"第四幅\"])\n",
    "data_price = df3[\"字画底价\"]\n",
    "print(f\"仅列出字画低价列:\\n{data_price}\")"
   ]
  },
  {
   "cell_type": "markdown",
   "metadata": {},
   "source": [
    "可以通过位置和名称的方式访问行。  \n",
    "使用goods_in.loc[\"第三幅\"] 来获取行数据,其中loc就是位置的关键词,“第三幅”就是索引的名称。\n"
   ]
  },
  {
   "cell_type": "code",
   "execution_count": null,
   "metadata": {},
   "outputs": [],
   "source": [
    "data_3 = df3.loc[\"第三幅\"]\n",
    "print(f\"仅列出“第三幅”所在行的数据:\\n{data_3}\")"
   ]
  },
  {
   "cell_type": "markdown",
   "metadata": {},
   "source": [
    "利用标签的切片运算也可以获取多行和多列。  "
   ]
  },
  {
   "cell_type": "code",
   "execution_count": null,
   "metadata": {},
   "outputs": [],
   "source": [
    "data_4 = df3.loc[[\"第三幅\", \"第四幅\"], [\"字画名称\", \"字画底价\"]]\n",
    "print(f\"沿axis=1的方向切片:\\n{data_4}\")"
   ]
  },
  {
   "cell_type": "markdown",
   "metadata": {},
   "source": [
    "对DataFrame数据的选取也可以通过布尔型数组实现。  "
   ]
  },
  {
   "cell_type": "code",
   "execution_count": null,
   "metadata": {},
   "outputs": [],
   "source": [
    "data_5 = df3.loc[df3[\"字画底价\"] > 500, :]\n",
    "print(f\"筛选出字画底价大于500的作品:\\n{data_5}\")\n",
    "print(f\"-\" * 20)\n",
    "data_6 = df3.loc[\n",
    "    (df3[\"字画底价\"] > 500) & (df3[\"字画拍卖加价\"] > 1000), :\n",
    "]\n",
    "print(f\"筛选出字画底价大于500，字画拍卖加价大于1000的作品:\\n{data_6}\")"
   ]
  },
  {
   "cell_type": "markdown",
   "metadata": {},
   "source": [
    "### 3.1.4 DataFrame 数据的修改"
   ]
  },
  {
   "cell_type": "code",
   "execution_count": null,
   "metadata": {},
   "outputs": [],
   "source": [
    "from pandas import DataFrame\n",
    "\n",
    "data = {\n",
    "    \"字画名称\": [\"旭日东升\", \"富水长流\", \"招财进宝\", \"鸿运当头\"],\n",
    "    \"字画底价\": [2860, 498, 1068, 598],\n",
    "    \"字画拍卖加价\": [1000, 2000, 500, 1500],\n",
    "}\n",
    "df = DataFrame(\n",
    "    data, columns=[\"字画名称\", \"字画底价\", \"字画拍卖加价\", \"字画所属人\"]\n",
    ")\n",
    "print(f\"原始数据:\\n{df}\")\n",
    "print(f\"-\" * 20)\n",
    "df[\"字画所属人\"] = \"张三\"\n",
    "print(f\"填充“张三”为字画所熟人:\\n{df}\")\n",
    "print(f\"-\" * 20)\n",
    "df[\"字画所属人\"] = [\"张三\", \"李四\", \"王五\", \"赵六\"]\n",
    "print(f\"分别为每条数据添加字画所属人:\\n{df}\")"
   ]
  },
  {
   "cell_type": "markdown",
   "metadata": {},
   "source": [
    "可通过del DataFrame名[\"列名\"]格式来进行删除操作。"
   ]
  },
  {
   "cell_type": "code",
   "execution_count": null,
   "metadata": {},
   "outputs": [],
   "source": [
    "del df[\"字画所属人\"]\n",
    "print(f\"删除“字画所属人”列:\\n{df}\")"
   ]
  },
  {
   "cell_type": "markdown",
   "metadata": {},
   "source": [
    "### 3.1.5 DataFrame 中的索引对象\n",
    "注意：索引对象不可修改。"
   ]
  },
  {
   "cell_type": "markdown",
   "metadata": {},
   "source": [
    "### 3.1.6 层次化索引\n",
    "层次化索引使用户能在一个轴上拥有多个索引级别，即能以低纬度形式处理高维度数据。"
   ]
  },
  {
   "cell_type": "code",
   "execution_count": null,
   "metadata": {},
   "outputs": [],
   "source": [
    "from pandas import DataFrame\n",
    "\n",
    "data = {\n",
    "    \"字画名称\": [\"旭日东升\", \"富水长流\", \"招财进宝\", \"鸿运当头\"],\n",
    "    \"字画底价\": [2860, 498, 1068, 598],\n",
    "    \"字画拍卖加价\": [1000, 2000, 500, 1500],\n",
    "}\n",
    "df = DataFrame(\n",
    "    data,\n",
    "    index=[\n",
    "        [\"第一拍卖现场\", \"第一拍卖现场\", \"第二拍卖现场\", \"第二拍卖现场\"],\n",
    "        [\"第一幅\", \"第二幅\", \"第一幅\", \"第二幅\"],\n",
    "    ],\n",
    ")\n",
    "print(f\"层次化索引后的 dataframe:\\n{df}\")\n",
    "print(f\"-\" * 20)\n",
    "df_indexes = df.index\n",
    "print(f\"goods_in_indexes:\\n{df_indexes}\")"
   ]
  },
  {
   "cell_type": "markdown",
   "metadata": {},
   "source": [
    " 选取数据子集。"
   ]
  },
  {
   "cell_type": "code",
   "execution_count": null,
   "metadata": {},
   "outputs": [],
   "source": [
    "df_second = df.loc[\"第二拍卖现场\"]\n",
    "print(f\"仅选取第二拍卖现场的数据:\\n{df_second}\")\n",
    "print(f\"-\" * 20)\n",
    "df_second_first = df.loc[\"第二拍卖现场\", \"第一幅\"]\n",
    "print(f\"仅选取第二拍卖现场第一幅画的数据:\\n{df_second_first}\")"
   ]
  },
  {
   "cell_type": "markdown",
   "metadata": {},
   "source": [
    " 通过 unstack() 方法将二级列索引转换为二级行索引。\n",
    " 还可通过 stack() 方法进行逆向操作。"
   ]
  },
  {
   "cell_type": "code",
   "execution_count": null,
   "metadata": {},
   "outputs": [],
   "source": [
    "print(f\"原始数据:\\n{df}\")\n",
    "print(f\"-\" * 20)\n",
    "df_stack = df.unstack()\n",
    "print(f\"转换索引后的数据:\\n{df_stack}\")\n",
    "print(f\"-\" * 20)\n",
    "df_stack = df.unstack().stack()\n",
    "print(f\"二次转换索引后的数据:\\n{df.unstack().stack()}\")"
   ]
  },
  {
   "cell_type": "markdown",
   "metadata": {},
   "source": [
    "## 3.2 Pandas 数据结构中的基本数据操作\n",
    "### 3.2.1 重新索引"
   ]
  },
  {
   "cell_type": "code",
   "execution_count": null,
   "metadata": {},
   "outputs": [],
   "source": [
    "from pandas import DataFrame\n",
    "\n",
    "data = {\n",
    "    \"车名\": [\"奥迪Q5L\", \"哈弗H6\", \"奔驰GLC\"],\n",
    "    \"最低报价\": [38.78, 9.80, 39.48],\n",
    "    \"最高报价\": [49.80, 14.10, 58.78],\n",
    "}\n",
    "df = DataFrame(data, index=[\"第一辆车\", \"第二辆车\", \"第三辆车\"])\n",
    "print(f\"原始数据:\\n{df}\")\n",
    "print(f\"-\" * 20)\n",
    "other_df = df.reindex([\"第三辆车\", \"第二辆车\", \"第一辆车\"])\n",
    "print(f\"调整索引后的数据:\\n{other_df}\")"
   ]
  },
  {
   "cell_type": "markdown",
   "metadata": {},
   "source": [
    "缺少数据时的前填充。"
   ]
  },
  {
   "cell_type": "code",
   "execution_count": null,
   "metadata": {},
   "outputs": [],
   "source": [
    "other_df = df.reindex(\n",
    "    [\"第三辆车\", \"第二辆车\", \"第一辆车\", \"第四辆车\"], fill_value=7.9\n",
    ")\n",
    "print(f\"直接填充数字后的数据:\\n{other_df}\")\n",
    "print(f\"-\" * 20)\n",
    "df = DataFrame(data, index=[1, 2, 3])\n",
    "other_df = df.reindex([1, 2, 3, 4], method=\"ffill\")\n",
    "print(f\"使用 ffill 方法填充后的数据:\\n{other_df}\")\n",
    "print(f\"-\" * 20)\n",
    "other_df = df.reindex([1, 2, 4, 3], method=\"bfill\")\n",
    "print(f\"使用 bfill 方法填充后的数据:\\n{other_df}\")"
   ]
  },
  {
   "cell_type": "markdown",
   "metadata": {},
   "source": [
    "### 3.2.2 删除指定轴上的项"
   ]
  },
  {
   "cell_type": "code",
   "execution_count": null,
   "metadata": {},
   "outputs": [],
   "source": [
    "from pandas import DataFrame\n",
    "\n",
    "data = {\n",
    "    \"车名\": [\"奥迪Q5L\", \"哈弗H6\", \"奔驰GLC\"],\n",
    "    \"最低报价\": [38.78, 9.80, 39.48],\n",
    "    \"最高报价\": [49.80, 14.10, 58.78],\n",
    "}\n",
    "df = DataFrame(data, index=[1, 2, 3])\n",
    "print(f\"原始数据:\\n{df}\")\n",
    "print(f\"-\" * 20)\n",
    "df = df.drop(2)\n",
    "print(f\"删除第二行后的数据:\\n{df}\")\n",
    "print(f\"-\" * 20)\n",
    "df = df.drop(\"最低报价\", axis=1)\n",
    "print(f\"删除\\\"最低报价\\\"列后的数据:\\n{df}\")"
   ]
  },
  {
   "cell_type": "markdown",
   "metadata": {},
   "source": [
    "### 3.2.3 算数运算和数据对齐\n",
    "非共有索引项会显示 Nan。"
   ]
  },
  {
   "cell_type": "code",
   "execution_count": null,
   "metadata": {},
   "outputs": [],
   "source": [
    "from pandas import DataFrame\n",
    "\n",
    "kindergarden1 = {\n",
    "    \"小朋友数目\": {\"1班\": 32, \"2班\": 20},\n",
    "    \"小朋友睡床\": {\"1班\": 40, \"2班\": 30},\n",
    "    \"上课教室\": {\"1班\": 3, \"2班\": 2},\n",
    "}\n",
    "kindergarden2 = {\n",
    "    \"小朋友数目\": {\"1班\": 10, \"2班\": 21, \"3班\": 15},\n",
    "    \"小朋友睡床\": {\"1班\": 11, \"2班\": 21, \"3班\": 16},\n",
    "    \"上课教室\": {\"1班\": 1, \"2班\": 2, \"3班\": 2},\n",
    "}\n",
    "kindergarden_dataframe1 = DataFrame(kindergarden1)\n",
    "kindergarden_dataframe2 = DataFrame(kindergarden2)\n",
    "kindergarden_all1 = kindergarden_dataframe1+kindergarden_dataframe2\n",
    "print(f\"all kindergarden data using “+”:\\n{kindergarden_all1}\")\n",
    "print(f\"-\"*20)\n",
    "kindergarden_all2 = kindergarden_dataframe1.add(kindergarden_dataframe2,fill_value=0)\n",
    "print(f\"all kindergarden data using “add”:\\n{kindergarden_all2}\")"
   ]
  },
  {
   "cell_type": "markdown",
   "metadata": {},
   "source": [
    " 定义数据时使用 DataFrame 和Series 类型，可直接使用 “+” 合并数据。"
   ]
  },
  {
   "cell_type": "code",
   "execution_count": null,
   "metadata": {},
   "outputs": [],
   "source": [
    "from pandas import DataFrame, Series\n",
    "\n",
    "kindergarden1={\"小朋友数目\":[32,20],\"小朋友睡床\":[40,30],\"上课教室\": [3,2]}\n",
    "kindergarden2={\"小朋友数目\":16,\"小朋友睡床\":19,\"上课教室\":2}\n",
    "kindergarden_dataframe1 = DataFrame(kindergarden1)\n",
    "kindergarden_series1 = Series(kindergarden2)\n",
    "kindergarden_all = kindergarden_dataframe1+kindergarden_series1\n",
    "print(f\"combined dataframe:\\n{kindergarden_all}\")"
   ]
  },
  {
   "cell_type": "markdown",
   "metadata": {},
   "source": [
    "## 3.3 数据处理\n",
    "### 3.3.1 判断缺失数据"
   ]
  },
  {
   "cell_type": "code",
   "execution_count": null,
   "metadata": {},
   "outputs": [],
   "source": [
    "from pandas import DataFrame\n",
    "import numpy as np\n",
    "\n",
    "data = {\n",
    "    \"车名\": [\"奥迪Q5L\", \"哈弗H6\", \"奔驰GLC\"],\n",
    "    \"最低报价\": [np.nan, 9.80, 20.00],\n",
    "    \"最高报价\": [49.80, np.nan, 58.78],\n",
    "}\n",
    "df = DataFrame(data, index=[1, 2, 3])\n",
    "print(f\"original data:\\n{df}\")\n",
    "print(f\"-\" * 20)\n",
    "df_isnull = df.isnull()\n",
    "print(f\"查找 nan 单元格:\\n{df_isnull}\")\n",
    "print(f\"-\" * 20)\n",
    "df_isnull = df[df[\"最低报价\"].isnull()]\n",
    "print(f\"查找最低报价为 nan 的行:\\n{df_isnull}\")"
   ]
  },
  {
   "cell_type": "markdown",
   "metadata": {},
   "source": [
    "### 3.3.2 删除缺失数据"
   ]
  },
  {
   "cell_type": "code",
   "execution_count": null,
   "metadata": {},
   "outputs": [],
   "source": [
    "from pandas import DataFrame\n",
    "import numpy as np\n",
    "\n",
    "data = {\n",
    "    \"车名\": [\"奥迪Q5L\", \"哈弗H6\", \"奔驰GLC\"],\n",
    "    \"最低报价\": [np.nan, 9.80, 20.00],\n",
    "    \"最高报价\": [49.80, np.nan, 58.78],\n",
    "}\n",
    "df = DataFrame(data, index=[1, 2, 3])\n",
    "print(f\"original data:\\n{df}\")\n",
    "print(f\"-\"*20)\n",
    "df_nonull = df.dropna()\n",
    "print(f\"剔除 nan 值所在的行:\\n{df_nonull}\")\n",
    "print(f\"-\"*20)\n",
    "df_nonull = df.dropna(axis=1)\n",
    "print(f\"剔除 nan 值所在的列:\\n{df_nonull}\")"
   ]
  },
  {
   "cell_type": "markdown",
   "metadata": {},
   "source": [
    "### 3.3.3 填充缺失数据"
   ]
  },
  {
   "cell_type": "code",
   "execution_count": null,
   "metadata": {},
   "outputs": [],
   "source": [
    "from pandas import DataFrame\n",
    "import numpy as np\n",
    "\n",
    "data = {\n",
    "    \"车名\": [\"奥迪Q5L\", \"哈弗H6\", \"奔驰GLC\"],\n",
    "    \"最低报价\": [np.nan, 9.80, np.nan],\n",
    "    \"最高报价\": [49.80, 23.10, np.nan],\n",
    "}\n",
    "goods_in = DataFrame(data, index=[1, 2, 3])\n",
    "goods_in_nonull = goods_in.fillna(999.99)\n",
    "print(f\"统一填充后的数据:\\n{goods_in_nonull}\")\n",
    "print(f\"-\" * 20)\n",
    "goods_in_fill = goods_in.fillna({\"最低报价\": 0.00, \"最高报价\": 999.99})\n",
    "print(f\"按列分别填充后的数据:\\n{goods_in_fill}\")"
   ]
  },
  {
   "cell_type": "markdown",
   "metadata": {},
   "source": [
    "### 3.3.4 移除重复数据\n",
    "查找重复数据，行中有重复元素的显示为 True，否则显示为 False。  \n",
    "可根据以上查找结果删除重复项，默认保留第一个出现的项，参数 keep=\"last\" 则保留最后一个出现的项。"
   ]
  },
  {
   "cell_type": "code",
   "execution_count": null,
   "metadata": {},
   "outputs": [],
   "source": [
    "from pandas import DataFrame\n",
    "\n",
    "data = {\n",
    "    \"车名\": [\"奥迪Q5L\", \"哈弗H6\", \"奔驰GLC\", \"奥迪Q5L\", \"哈弗H6\"],\n",
    "    \"最低报价\": [9.80, 14.35, 15.42, 9.80, 14.35],\n",
    "    \"最高报价\": [49.80, 23.10, 60.45, 49.80, 23.10],\n",
    "}\n",
    "dataFrame = DataFrame(data)\n",
    "print(f\"original dataFrame:\\n{dataFrame}\")\n",
    "print(f\"-\" * 20)\n",
    "dataFrameDuplicated = dataFrame.duplicated()\n",
    "print(f\"finding duplicated data in dataFrame:\\n{dataFrameDuplicated}\")\n",
    "print(f\"-\" * 20)\n",
    "dataFrameDropDuplicated = dataFrame.drop_duplicates(keep=\"last\")\n",
    "print(f\"dropping duplicated data in dataFrame:\\n{dataFrameDropDuplicated}\")"
   ]
  },
  {
   "cell_type": "markdown",
   "metadata": {},
   "source": [
    "### 3.3.5 替换数据"
   ]
  },
  {
   "cell_type": "code",
   "execution_count": null,
   "metadata": {},
   "outputs": [],
   "source": [
    "from pandas import DataFrame\n",
    "import numpy as np\n",
    "\n",
    "data = {\n",
    "    \"车名\": [\"奥迪Q5L\", \"哈弗H6\", \"奔驰GLC\", \"奥迪Q5L\", \"哈弗H6\"],\n",
    "    \"最低报价\": [9.80, 14.35, 15.42, 9.80, np.nan],\n",
    "    \"最高报价\": [49.80, 23.10, np.nan, 49.80, 23.10],\n",
    "}\n",
    "dataFrame = DataFrame(data)\n",
    "print(f\"original dataFrame:\\n{dataFrame}\")\n",
    "print(f\"-\" * 20)\n",
    "dataFrameReplaced = dataFrame.replace({np.nan: \"无报价\", 9.80: 88.88})\n",
    "print(f\"dataFrame after Replaced:\\n{dataFrameReplaced}\")"
   ]
  },
  {
   "cell_type": "markdown",
   "metadata": {},
   "source": [
    "### 3.3.6 排列和随机采样\n",
    "从 dataFrame 提取行(随机排列)。  \n",
    "随机提取后采样。"
   ]
  },
  {
   "cell_type": "code",
   "execution_count": null,
   "metadata": {},
   "outputs": [],
   "source": [
    "from pandas import DataFrame\n",
    "import numpy as np\n",
    "\n",
    "data = {\n",
    "    \"车名\": [\"奥迪Q5L\", \"哈弗H6\", \"奔驰GLC\", \"奥迪Q5L\", \"哈弗H6\"],\n",
    "    \"最低报价\": [9.80, 14.35, 15.42, 9.80, 14.35],\n",
    "    \"最高报价\": [49.80, 23.10, 60.45, 49.80, 23.10],\n",
    "}\n",
    "dataFrame = DataFrame(data, index=[\"A\", \"B\", \"C\", \"D\", \"E\"])\n",
    "print(f\"original dataFrame:\\n{dataFrame}\")\n",
    "print(f\"-\" * 20)\n",
    "dataFramePermutated = np.random.permutation(dataFrame)\n",
    "print(f\"dataFrame after permutation:\\n{dataFramePermutated}\")\n",
    "print(f\"-\" * 20)\n",
    "dataFramePermutated1 = dataFrame.take(np.random.permutation(len(dataFrame)))\n",
    "print(f\"dataFrame after permutation:\\n{dataFramePermutated1}\")\n",
    "print(f\"-\" * 20)\n",
    "dataFramePermutated2 = dataFrame.take(np.random.permutation(2))\n",
    "print(f\"dataFrame after permutation for 2 rows:\\n{dataFramePermutated2}\")\n"
   ]
  },
  {
   "cell_type": "markdown",
   "metadata": {},
   "source": [
    "## 3.4 方法的应用与映射\n",
    "以将数据归一化为例。"
   ]
  },
  {
   "cell_type": "code",
   "execution_count": null,
   "metadata": {},
   "outputs": [],
   "source": [
    "from pandas import DataFrame\n",
    "\n",
    "data = {\n",
    "    \"车名\": [\"奥迪Q5L\", \"哈弗H6\", \"奔驰GLC\"],\n",
    "    \"最低报价\": [38.78, 9.80, 39.48],\n",
    "    \"最高报价\": [49.80, 14.10, 58.78],\n",
    "}\n",
    "dataFrame = DataFrame(data, index=[\"A\", \"B\", \"C\"])\n",
    "print(f\"原始数据:\\n{dataFrame}\")\n",
    "print(f\"-\" * 20)\n",
    "f = lambda x: (x - x.min()) / (x.max() - x.min())\n",
    "dataFrame[[\"最低报价\", \"最高报价\"]] = dataFrame[[\"最低报价\", \"最高报价\"]].apply(f)\n",
    "print(f\"报价归一化:\\n{dataFrame}\")"
   ]
  },
  {
   "cell_type": "markdown",
   "metadata": {},
   "source": [
    "### 3.4.1 排序和排名\n",
    "可按 index 或列的数据进行排序。"
   ]
  },
  {
   "cell_type": "code",
   "execution_count": null,
   "metadata": {},
   "outputs": [],
   "source": [
    "from pandas import DataFrame\n",
    "\n",
    "data = {\n",
    "    \"车名\": [\"奥迪Q5L\", \"哈弗H6\", \"奔驰GLC\"],\n",
    "    \"最低报价\": [38.78, 9.80, 39.48],\n",
    "    \"最高报价\": [49.80, 14.10, 58.78],\n",
    "}\n",
    "dataFrame = DataFrame(data, index=[\"L车\", \"K车\", \"D车\"])\n",
    "print(f\"原始数据：\\n{dataFrame}\")\n",
    "print(f\"-\" * 20)\n",
    "dataFrame = dataFrame.sort_index()\n",
    "print(f\"按车名排序后的数据：\\n{dataFrame}\")\n",
    "print(f\"-\" * 20)\n",
    "dataFrame = dataFrame.sort_values(by=\"最高报价\", ascending=False)\n",
    "print(f\"按最高报价排序后的数据：\\n{dataFrame}\")\n",
    "print(f\"-\" * 20)\n",
    "dataFrame = dataFrame.rank(method=\"min\", ascending=False)\n",
    "print(f\"按最高报价排名后的数据：\\n{dataFrame}\")"
   ]
  },
  {
   "cell_type": "markdown",
   "metadata": {},
   "source": [
    "### 3.4.2 带有重复值的轴索引"
   ]
  },
  {
   "cell_type": "code",
   "execution_count": null,
   "metadata": {},
   "outputs": [],
   "source": [
    "from pandas import DataFrame\n",
    "\n",
    "data = {\n",
    "    \"车名\": [\"奥迪Q5L\", \"哈弗H6\", \"奔驰GLC\", \"奔驰GLC\", \"奥迪Q5L\"],\n",
    "    \"最低报价\": [38.78, 9.80, 39.48, 39.48, 38.78],\n",
    "    \"最高报价\": [49.80, 14.10, 58.78, 58.78, 49.80],\n",
    "}\n",
    "dataFrame = DataFrame(data, index=[\"一辆车\", \"某辆车\", \"一辆车\", \"又一辆车\", \"一辆车\"])\n",
    "print(f\"原始数据:\\n{dataFrame}\")\n",
    "dataFrameIsUnique = dataFrame.index.is_unique\n",
    "print(f\"是否唯一索引: {dataFrameIsUnique}\")\n",
    "dataFrameUnique = dataFrame.index.unique()\n",
    "print(f\"去重后的索引: {dataFrameUnique}\")"
   ]
  },
  {
   "cell_type": "markdown",
   "metadata": {},
   "source": [
    "### 3.4.3 汇总和计算描述统计"
   ]
  },
  {
   "cell_type": "code",
   "execution_count": null,
   "metadata": {},
   "outputs": [],
   "source": [
    "from pandas import DataFrame\n",
    "\n",
    "data ={\"地址\":[\"北京市\",\"大兴区\",\"黄村镇\",\"卫星城\"], \"购物车内每件商品价格\":[38.78,9.80,39.48,39.48]}"
   ]
  }
 ],
 "metadata": {
  "kernelspec": {
   "display_name": "base",
   "language": "python",
   "name": "python3"
  },
  "language_info": {
   "codemirror_mode": {
    "name": "ipython",
    "version": 3
   },
   "file_extension": ".py",
   "mimetype": "text/x-python",
   "name": "python",
   "nbconvert_exporter": "python",
   "pygments_lexer": "ipython3",
   "version": "3.12.2"
  }
 },
 "nbformat": 4,
 "nbformat_minor": 2
}
