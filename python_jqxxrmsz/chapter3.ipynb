{
 "cells": [
  {
   "cell_type": "markdown",
   "metadata": {},
   "source": [
    "## 3.1 Pandas 数据结构的介绍\n",
    "### 3.1.2 Series 数据类型的运算"
   ]
  },
  {
   "cell_type": "code",
   "execution_count": null,
   "metadata": {},
   "outputs": [],
   "source": [
    "from pandas import Series\n",
    "goods_in=Series({\"苹果\":30,\"梨\":25,\"香蕉\":20,\"桃\":21,\"李子\":15})\n",
    "goods_other_in=Series({\"苹果\":10,\"梨\":20,\"香蕉\":15,\"桃\":10,\"西瓜\":50})\n",
    "goods_kucun= goods_in+goods_other_in\n",
    "print(f\"库存:\\n[{goods_kucun}]\")\n",
    "print(\"注：一个 Series 中有索引而另一个没有，相加后结果为 NAN （表示空值）\")"
   ]
  },
  {
   "cell_type": "code",
   "execution_count": null,
   "metadata": {},
   "outputs": [],
   "source": [
    "import numpy as np\n",
    "goods=Series([30,25,20,21,np.nan],index=[\"苹果\",\"梨\",\"香蕉\",\"桃\",\"李子\"])\n",
    "print(f\"original Series:\\n{goods}\")\n",
    "goods[\"李子\"]=15\n",
    "print(f\"Series after assigning new values:\\n{goods}\")\n"
   ]
  }
 ],
 "metadata": {
  "kernelspec": {
   "display_name": "base",
   "language": "python",
   "name": "python3"
  },
  "language_info": {
   "codemirror_mode": {
    "name": "ipython",
    "version": 3
   },
   "file_extension": ".py",
   "mimetype": "text/x-python",
   "name": "python",
   "nbconvert_exporter": "python",
   "pygments_lexer": "ipython3",
   "version": "3.12.2"
  }
 },
 "nbformat": 4,
 "nbformat_minor": 2
}
