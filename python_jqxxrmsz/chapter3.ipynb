{
 "cells": [
  {
   "cell_type": "markdown",
   "metadata": {},
   "source": [
    "## 3.1 Pandas 数据结构的介绍\n",
    "### 3.1.2 Series 数据类型的运算"
   ]
  },
  {
   "cell_type": "code",
   "execution_count": null,
   "metadata": {},
   "outputs": [],
   "source": [
    "from pandas import Series\n",
    "goods_in=Series({\"苹果\":30,\"梨\":25,\"香蕉\":20,\"桃\":21,\"李子\":15})\n",
    "goods_other_in=Series({\"苹果\":10,\"梨\":20,\"香蕉\":15,\"桃\":10,\"西瓜\":50})\n",
    "goods_kucun= goods_in+goods_other_in\n",
    "print(f\"库存:\\n[{goods_kucun}]\")\n",
    "print(\"注：一个 Series 中有索引而另一个没有，相加后结果为 NAN （表示空值）\")"
   ]
  },
  {
   "cell_type": "code",
   "execution_count": null,
   "metadata": {},
   "outputs": [],
   "source": [
    "import numpy as np\n",
    "goods=Series([30,25,20,21,np.nan],index=[\"苹果\",\"梨\",\"香蕉\",\"桃\",\"李子\"])\n",
    "print(f\"original Series:\\n{goods}\")\n",
    "goods[\"李子\"]=15\n",
    "print(f\"Series after assigning new values:\\n{goods}\")\n"
   ]
  },
  {
   "cell_type": "markdown",
   "metadata": {},
   "source": [
    "### 3.1.3 DataFrame 数据结构"
   ]
  },
  {
   "cell_type": "code",
   "execution_count": null,
   "metadata": {},
   "outputs": [],
   "source": [
    "from pandas import DataFrame\n",
    "\n",
    "paints = {\n",
    "    \"字画名称\": [\"旭日东升\", \"富水长流\", \"招财进宝\", \"鸿运当头\"],\n",
    "    \"字画底价\": [2860, 498, 1068, 598],\n",
    "    \"字画拍卖加价\": [1000, 2000, 500, 1500],\n",
    "}\n",
    "goods_in = DataFrame(paints)\n",
    "print(f\"goods_in:\\n{goods_in}\")\n",
    "print(\"-\" * 20)\n",
    "goods_in1 = DataFrame(paints, columns=[\"字画名称\", \"字画拍卖加价\", \"字画底价\"])\n",
    "print(f\"goods_in1:\\n{goods_in1}\")"
   ]
  },
  {
   "cell_type": "markdown",
   "metadata": {},
   "source": [
    "DataFrame最终是按照columns指定的顺序排列的。如果传入的列名在数据中是无法找到的,就会产生NaN值。  "
   ]
  },
  {
   "cell_type": "code",
   "execution_count": null,
   "metadata": {},
   "outputs": [],
   "source": [
    "goods_in2 = DataFrame(paints,columns=[\"字画名称\", \"字画拍卖加价\", \"字画底价\",\"字画所属人\"])\n",
    "print(f\"goods_in2:\\n{goods_in2}\")"
   ]
  },
  {
   "cell_type": "markdown",
   "metadata": {},
   "source": [
    "列名被指定DataFrame结构时可以通过类似字典标记的方式将列获取为一个Series结构。  \n",
    "代码中定义了字画的DataFrame之后,直接通过goods_in[\"字画底价\"]来访问“字画底价”这个维度的数据,获取的是一个Series结构的数据。  \n",
    "返回的Series拥有与原DataFrame相同的索引,且其索引值也已经被相应地设置好了。"
   ]
  },
  {
   "cell_type": "code",
   "execution_count": null,
   "metadata": {},
   "outputs": [],
   "source": [
    "goods_in3 = DataFrame(paints, index=[\"第一幅\", \"第二幅\", \"第三幅\", \"第四幅\"])\n",
    "paints_price = goods_in3[\"字画底价\"]\n",
    "print(paints_price)"
   ]
  },
  {
   "cell_type": "markdown",
   "metadata": {},
   "source": [
    "可以通过位置和名称的方式访问行。  \n",
    "使用goods_in.loc[\"第三幅\"] 来获取行数据,其中loc就是位置的关键词,“第三幅”就是索引的名称。\n"
   ]
  },
  {
   "cell_type": "code",
   "execution_count": null,
   "metadata": {},
   "outputs": [],
   "source": [
    "paints_3 = goods_in3.loc[\"第三幅\"]\n",
    "print(f\"paints_3:\\n{paints_3}\")"
   ]
  },
  {
   "cell_type": "markdown",
   "metadata": {},
   "source": [
    "利用标签的切片运算也可以获取多行和多列。  "
   ]
  },
  {
   "cell_type": "code",
   "execution_count": null,
   "metadata": {},
   "outputs": [],
   "source": [
    "paints_4 = goods_in3.loc[[\"第三幅\", \"第四幅\"], [\"字画名称\", \"字画底价\"]]\n",
    "print(paints_4)"
   ]
  },
  {
   "cell_type": "markdown",
   "metadata": {},
   "source": [
    "对DataFrame数据的选取也可以通过布尔型数组实现。  "
   ]
  },
  {
   "cell_type": "code",
   "execution_count": null,
   "metadata": {},
   "outputs": [],
   "source": [
    "paints_5=goods_in3.loc[goods_in3[\"字画底价\"]>500,:]\n",
    "print(f\"paints_5:\\n{paints_5}\")\n",
    "print(f\"-\"*20)\n",
    "paints_6=goods_in3.loc[(goods_in3[\"字画底价\"]>500)&(goods_in3[\"字画拍卖加价\"]>1000),:]\n",
    "print(f\"paints_6:\\n{paints_6}\")"
   ]
  },
  {
   "cell_type": "markdown",
   "metadata": {},
   "source": [
    "### 3.1.4 DataFrame 数据的修改"
   ]
  },
  {
   "cell_type": "code",
   "execution_count": null,
   "metadata": {},
   "outputs": [],
   "source": [
    "from pandas import DataFrame\n",
    "\n",
    "paints = {\n",
    "    \"字画名称\": [\"旭日东升\", \"富水长流\", \"招财进宝\", \"鸿运当头\"],\n",
    "    \"字画底价\": [2860, 498, 1068, 598],\n",
    "    \"字画拍卖加价\": [1000, 2000, 500, 1500],\n",
    "}\n",
    "goods_in = DataFrame(paints, columns=[\"字画名称\", \"字画底价\", \"字画拍卖加价\",\"字画所属人\"])\n",
    "print(f\"goods_in:\\n{goods_in}\")\n",
    "print(f\"-\"*20)\n",
    "goods_in[\"字画所属人\"]=\"张三\"\n",
    "print(f\"goods_in:\\n{goods_in}\")\n",
    "print(f\"-\"*20)\n",
    "goods_in[\"字画所属人\"] = [\"张三\",\"李四\",\"王五\",\"赵六\"]\n",
    "print(f\"goods_in:\\n{goods_in}\")"
   ]
  },
  {
   "cell_type": "markdown",
   "metadata": {},
   "source": [
    "可通过del DataFrame名[\"列名\"]格式来进行删除操作。"
   ]
  },
  {
   "cell_type": "code",
   "execution_count": null,
   "metadata": {},
   "outputs": [],
   "source": [
    "del goods_in[\"字画所属人\"]\n",
    "print(f\"goods_in:\\n{goods_in}\")"
   ]
  }
 ],
 "metadata": {
  "kernelspec": {
   "display_name": "base",
   "language": "python",
   "name": "python3"
  },
  "language_info": {
   "codemirror_mode": {
    "name": "ipython",
    "version": 3
   },
   "file_extension": ".py",
   "mimetype": "text/x-python",
   "name": "python",
   "nbconvert_exporter": "python",
   "pygments_lexer": "ipython3",
   "version": "3.12.2"
  }
 },
 "nbformat": 4,
 "nbformat_minor": 2
}
